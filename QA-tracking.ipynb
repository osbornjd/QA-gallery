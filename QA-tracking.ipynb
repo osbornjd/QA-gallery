{
 "cells": [
  {
   "cell_type": "markdown",
   "metadata": {},
   "source": [
    "# Introduction\n",
    "\n",
    "QA plots for the generic tracking performance"
   ]
  },
  {
   "cell_type": "code",
   "execution_count": 1,
   "metadata": {
    "execution": {
     "iopub.execute_input": "2021-04-14T19:15:07.890279Z",
     "iopub.status.busy": "2021-04-14T19:15:07.889235Z",
     "iopub.status.idle": "2021-04-14T19:15:07.893095Z",
     "shell.execute_reply": "2021-04-14T19:15:07.892075Z"
    }
   },
   "outputs": [],
   "source": [
    "# imports to write dynamic markdown contents\n",
    "import os\n",
    "from IPython.display import display, Markdown, Latex\n",
    "from IPython.display import HTML"
   ]
  },
  {
   "cell_type": "code",
   "execution_count": 2,
   "metadata": {
    "execution": {
     "iopub.execute_input": "2021-04-14T19:15:07.907398Z",
     "iopub.status.busy": "2021-04-14T19:15:07.906534Z",
     "iopub.status.idle": "2021-04-14T19:15:07.912812Z",
     "shell.execute_reply": "2021-04-14T19:15:07.913254Z"
    }
   },
   "outputs": [
    {
     "data": {
      "text/markdown": [
       "*For the result HTML page:* "
      ],
      "text/plain": [
       "<IPython.core.display.Markdown object>"
      ]
     },
     "metadata": {},
     "output_type": "display_data"
    },
    {
     "data": {
      "text/html": [
       "<script>\n",
       "code_show=true; \n",
       "function code_toggle() {\n",
       " if (code_show){\n",
       " $('div.input').hide();\n",
       " } else {\n",
       " $('div.input').show();\n",
       " }\n",
       " code_show = !code_show\n",
       "} \n",
       "$( document ).ready(code_toggle);\n",
       "</script>\n",
       "<form action=\"javascript:code_toggle()\"><input type=\"submit\" value=\"Click here to toggle on/off the raw code.\"></form>"
      ],
      "text/plain": [
       "<IPython.core.display.HTML object>"
      ]
     },
     "execution_count": 1,
     "metadata": {},
     "output_type": "execute_result"
    }
   ],
   "source": [
    "# turn off/on code for the result HTML page\n",
    "\n",
    "display(Markdown('*For the result HTML page:* '))\n",
    "    \n",
    "HTML('''<script>\n",
    "code_show=true; \n",
    "function code_toggle() {\n",
    " if (code_show){\n",
    " $('div.input').hide();\n",
    " } else {\n",
    " $('div.input').show();\n",
    " }\n",
    " code_show = !code_show\n",
    "} \n",
    "$( document ).ready(code_toggle);\n",
    "</script>\n",
    "<form action=\"javascript:code_toggle()\"><input type=\"submit\" value=\"Click here to toggle on/off the raw code.\"></form>''')"
   ]
  },
  {
   "cell_type": "code",
   "execution_count": 3,
   "metadata": {
    "execution": {
     "iopub.execute_input": "2021-04-14T19:15:07.917501Z",
     "iopub.status.busy": "2021-04-14T19:15:07.916945Z",
     "iopub.status.idle": "2021-04-14T19:15:07.923636Z",
     "shell.execute_reply": "2021-04-14T19:15:07.922880Z"
    }
   },
   "outputs": [
    {
     "data": {
      "text/markdown": [
       "[//]: # (This section starts with a 2nd level heading and get embedded in the result QA report at https://github.com/sPHENIX-Collaboration/QA-gallery/tree/QA-tracking-high-occupancy)\n",
       "\n",
       "## Tracking QA at high occupancy\n",
       "\n",
       "High occupancy tracking QA consists full tracker + reconstruction of events with 76 $\\pi^+$, and 76 $\\pi^-$ in a $\\Delta\\eta \\times \\Delta\\phi = 0.5 \\times 0.5$ window. In this small window, we would like to emulate the occupancy for 0-10% AuAu 200 GeV $\\delta N_{Ch}/\\delta\\eta = 609$ [DOI: 10.1103/PhysRevC.83.024913]. Beyond this window, six more high $p_T>60$ GeV$/c$ pions are added to help constraint 3D vertex. \n",
       "\n",
       "Please note the calorimeters are disabled to improve execution speed, which also removed some of the correlated albedo background for the tracker. \n",
       "\n",
       "The source code of the macro can be found at https://github.com/sPHENIX-Collaboration/macros/tree/QA-tracking-high-occupancy or [comparing it to the master branch](https://github.com/sPHENIX-Collaboration/macros/compare/QA-tracking-high-occupancy?expand=1).\n"
      ],
      "text/plain": [
       "<IPython.core.display.Markdown object>"
      ]
     },
     "metadata": {},
     "output_type": "display_data"
    }
   ],
   "source": [
    "import os.path\n",
    "\n",
    "# readme file of the macros, available if run under JenkinsCI\n",
    "# https://github.com/sPHENIX-Collaboration/utilities/blob/master/jenkins/built-test/test-tracking-qa.sh \n",
    "\n",
    "macro_markdown = 'Fun4All-macros-README.md'\n",
    "\n",
    "if os.path.isfile(macro_markdown) :\n",
    "    with open(macro_markdown, 'r') as file:\n",
    "        display(Markdown(file.read()))"
   ]
  },
  {
   "cell_type": "markdown",
   "metadata": {},
   "source": [
    "## `pyROOT` env check"
   ]
  },
  {
   "cell_type": "code",
   "execution_count": 4,
   "metadata": {
    "execution": {
     "iopub.execute_input": "2021-04-14T19:15:07.929453Z",
     "iopub.status.busy": "2021-04-14T19:15:07.928566Z",
     "iopub.status.idle": "2021-04-14T19:15:12.607722Z",
     "shell.execute_reply": "2021-04-14T19:15:12.608699Z"
    }
   },
   "outputs": [
    {
     "name": "stdout",
     "output_type": "stream",
     "text": [
      "Welcome to JupyROOT 6.22/02\n"
     ]
    },
    {
     "data": {
      "text/markdown": [
       "via sPHENIX software distribution at `/var/lib/jenkins/workspace/sPHENIX/Build-Master-gcc8/build/new/install.1`"
      ],
      "text/plain": [
       "<IPython.core.display.Markdown object>"
      ]
     },
     "metadata": {},
     "output_type": "display_data"
    }
   ],
   "source": [
    "import ROOT\n",
    "\n",
    "OFFLINE_MAIN = os.getenv(\"OFFLINE_MAIN\")\n",
    "if OFFLINE_MAIN is not None:\n",
    "    display(Markdown(f\"via sPHENIX software distribution at `{OFFLINE_MAIN}`\"))"
   ]
  },
  {
   "cell_type": "markdown",
   "metadata": {},
   "source": [
    "## Plotting source code"
   ]
  },
  {
   "cell_type": "code",
   "execution_count": 5,
   "metadata": {
    "execution": {
     "iopub.execute_input": "2021-04-14T19:15:12.625169Z",
     "iopub.status.busy": "2021-04-14T19:15:12.624054Z",
     "iopub.status.idle": "2021-04-14T19:15:12.748601Z",
     "shell.execute_reply": "2021-04-14T19:15:12.747642Z"
    }
   },
   "outputs": [
    {
     "data": {
      "text/markdown": [
       "View the source code repository at https://github.com/sPHENIX-Collaboration/QA-gallery.git"
      ],
      "text/plain": [
       "<IPython.core.display.Markdown object>"
      ]
     },
     "metadata": {},
     "output_type": "display_data"
    }
   ],
   "source": [
    "import subprocess\n",
    "\n",
    "try:\n",
    "    git_url = \\\n",
    "        subprocess.run(['git','remote','get-url','origin'], stdout=subprocess.PIPE)\\\n",
    "        .stdout.decode('utf-8').strip()\\\n",
    "        .replace('git@github.com:','https://github.com/')\n",
    "\n",
    "    display(Markdown(f\"View the source code repository at {git_url}\"))\n",
    "except: # catch *all* exceptions\n",
    "    #     well do nothing\n",
    "    pass"
   ]
  },
  {
   "cell_type": "markdown",
   "metadata": {},
   "source": [
    "## JenkinsCI information (if available)"
   ]
  },
  {
   "cell_type": "code",
   "execution_count": 6,
   "metadata": {
    "execution": {
     "iopub.execute_input": "2021-04-14T19:15:12.758792Z",
     "iopub.status.busy": "2021-04-14T19:15:12.757472Z",
     "iopub.status.idle": "2021-04-14T19:15:12.874181Z",
     "shell.execute_reply": "2021-04-14T19:15:12.873655Z"
    }
   },
   "outputs": [
    {
     "data": {
      "text/markdown": [
       "Some further details about the QA run, if executed under the Jenkins CI:"
      ],
      "text/plain": [
       "<IPython.core.display.Markdown object>"
      ]
     },
     "metadata": {},
     "output_type": "display_data"
    },
    {
     "data": {
      "text/markdown": [
       "* The commit being checked is sPHENIX-Collaboration/coresoftware/b2ab938a8078357e0b73112a7ee2c56c797cb236"
      ],
      "text/plain": [
       "<IPython.core.display.Markdown object>"
      ]
     },
     "metadata": {},
     "output_type": "display_data"
    },
    {
     "data": {
      "text/markdown": [
       "* Link to the pull request: https://github.com/sPHENIX-Collaboration/coresoftware/pull/1130"
      ],
      "text/plain": [
       "<IPython.core.display.Markdown object>"
      ]
     },
     "metadata": {},
     "output_type": "display_data"
    },
    {
     "data": {
      "text/markdown": [
       "* Link to the build: https://web.sdcc.bnl.gov/jenkins-sphenix/job/sPHENIX/job/test-tracking-high-occupancy-qa/819/"
      ],
      "text/plain": [
       "<IPython.core.display.Markdown object>"
      ]
     },
     "metadata": {},
     "output_type": "display_data"
    },
    {
     "data": {
      "text/markdown": [
       "* Git repo for macros: https://github.com/sPHENIX-Collaboration/macros.git , which merges `*/master` and the QA tracking branch"
      ],
      "text/plain": [
       "<IPython.core.display.Markdown object>"
      ]
     },
     "metadata": {},
     "output_type": "display_data"
    },
    {
     "data": {
      "text/markdown": [
       "* Download the QA ROOT files: https://web.sdcc.bnl.gov/jenkins-sphenix/job/sPHENIX/job/test-tracking-high-occupancy-qa/819/display/redirect?page=artifacts"
      ],
      "text/plain": [
       "<IPython.core.display.Markdown object>"
      ]
     },
     "metadata": {},
     "output_type": "display_data"
    },
    {
     "data": {
      "text/markdown": [
       "Automatically generated by [sPHENIX Jenkins continuous integration](https://web.sdcc.bnl.gov/jenkins-sphenix/) [![sPHENIX](https://raw.githubusercontent.com/sPHENIX-Collaboration/utilities/master/jenkins/material/sphenix-logo-white-bg-72p.png)](https://www.sphenix.bnl.gov/web/) &nbsp; &nbsp; &nbsp; &nbsp; &nbsp; &nbsp; [![jenkins.io](https://raw.githubusercontent.com/sPHENIX-Collaboration/utilities/master/jenkins/material/jenkins_logo_title-72p.png)](https://jenkins.io/)"
      ],
      "text/plain": [
       "<IPython.core.display.Markdown object>"
      ]
     },
     "metadata": {},
     "output_type": "display_data"
    }
   ],
   "source": [
    "display(Markdown('Some further details about the QA run, if executed under the Jenkins CI:'))\n",
    "\n",
    "checkrun_repo_commit = os.getenv(\"checkrun_repo_commit\")\n",
    "if checkrun_repo_commit is not None:\n",
    "    display(Markdown(f\"* The commit being checked is {checkrun_repo_commit}\"))\n",
    "        \n",
    "ghprbPullLink = os.getenv(\"ghprbPullLink\")\n",
    "if ghprbPullLink is not None:\n",
    "    display(Markdown(f\"* Link to the pull request: {ghprbPullLink}\"))\n",
    "\n",
    "BUILD_URL =  os.getenv(\"BUILD_URL\")\n",
    "if BUILD_URL is not None:\n",
    "    display(Markdown(f\"* Link to the build: {BUILD_URL}\"))\n",
    "\n",
    "git_url_macros =  os.getenv(\"git_url_macros\")\n",
    "sha_macros =  os.getenv(\"sha_macros\")\n",
    "if git_url_macros is not None:\n",
    "    display(Markdown(f\"* Git repo for macros: {git_url_macros} , which merges `{sha_macros}` and the QA tracking branch\"))\n",
    "\n",
    "RUN_ARTIFACTS_DISPLAY_URL = os.getenv(\"RUN_ARTIFACTS_DISPLAY_URL\")\n",
    "if RUN_ARTIFACTS_DISPLAY_URL is not None:\n",
    "    display(Markdown(f\"* Download the QA ROOT files: {RUN_ARTIFACTS_DISPLAY_URL}\"))\n",
    "\n",
    "JENKINS_URL  = os.getenv(\"JENKINS_URL\")\n",
    "if JENKINS_URL is not None:\n",
    "    display(Markdown(f\"Automatically generated by [sPHENIX Jenkins continuous integration]({JENKINS_URL}) [![sPHENIX](https://raw.githubusercontent.com/sPHENIX-Collaboration/utilities/master/jenkins/material/sphenix-logo-white-bg-72p.png)](https://www.sphenix.bnl.gov/web/) &nbsp; &nbsp; &nbsp; &nbsp; &nbsp; &nbsp; [![jenkins.io](https://raw.githubusercontent.com/sPHENIX-Collaboration/utilities/master/jenkins/material/jenkins_logo_title-72p.png)](https://jenkins.io/)\"))"
   ]
  },
  {
   "cell_type": "markdown",
   "metadata": {},
   "source": [
    "\n",
    "# Initialization"
   ]
  },
  {
   "cell_type": "code",
   "execution_count": 7,
   "metadata": {
    "execution": {
     "iopub.execute_input": "2021-04-14T19:15:13.230171Z",
     "iopub.status.busy": "2021-04-14T19:15:13.229621Z",
     "iopub.status.idle": "2021-04-14T19:15:13.333210Z",
     "shell.execute_reply": "2021-04-14T19:15:13.334278Z"
    },
    "scrolled": true
   },
   "outputs": [],
   "source": [
    "%%cpp -d\n",
    "\n",
    "#include \"QA_Draw_Utility.C\"\n",
    "\n",
    "#include <sPhenixStyle.C>\n",
    "\n",
    "#include <TFile.h>\n",
    "#include <TLine.h>\n",
    "#include <TString.h>\n",
    "#include <TTree.h>\n",
    "#include <cassert>\n",
    "#include <cmath>"
   ]
  },
  {
   "cell_type": "code",
   "execution_count": 8,
   "metadata": {
    "execution": {
     "iopub.execute_input": "2021-04-14T19:15:14.374049Z",
     "iopub.status.busy": "2021-04-14T19:15:14.372750Z",
     "iopub.status.idle": "2021-04-14T19:15:14.478617Z",
     "shell.execute_reply": "2021-04-14T19:15:14.477386Z"
    }
   },
   "outputs": [
    {
     "name": "stdout",
     "output_type": "stream",
     "text": [
      "sPhenixStyle: Applying nominal settings.\n",
      "sPhenixStyle: ROOT6 mode\n"
     ]
    }
   ],
   "source": [
    "%%cpp\n",
    "\n",
    "SetsPhenixStyle();\n",
    "TVirtualFitter::SetDefaultFitter(\"Minuit2\");\n",
    "\n",
    "// test sPHENIX lib load\n",
    "// gSystem->Load(\"libg4eval.so\");\n",
    "\n",
    "// test libs\n",
    "// gSystem->ListLibraries();"
   ]
  },
  {
   "cell_type": "markdown",
   "metadata": {},
   "source": [
    "## Inputs and file checks"
   ]
  },
  {
   "cell_type": "code",
   "execution_count": 9,
   "metadata": {
    "execution": {
     "iopub.execute_input": "2021-04-14T19:15:14.486963Z",
     "iopub.status.busy": "2021-04-14T19:15:14.486117Z",
     "iopub.status.idle": "2021-04-14T19:15:14.590742Z",
     "shell.execute_reply": "2021-04-14T19:15:14.590027Z"
    }
   },
   "outputs": [],
   "source": [
    "\n",
    "qa_file_name_new = os.getenv(\"qa_file_name_new\")\n",
    "if qa_file_name_new is None:\n",
    "    qa_file_name_new = \"G4sPHENIX_test-tracking-low-occupancy-qa_Event100_Sum10_qa.root\"\n",
    "    display(Markdown(f\"`qa_file_name_new` env not set. use the default `qa_file_name_new={qa_file_name_new}`\"))\n",
    "\n",
    "qa_file_name_ref = os.getenv(\"qa_file_name_ref\")\n",
    "if qa_file_name_ref is None:\n",
    "    qa_file_name_ref = \"reference/G4sPHENIX_test-tracking-low-occupancy-qa_Event100_Sum10_qa.root\"\n",
    "    display(Markdown(f\"`qa_file_name_ref` env not set. use the default `qa_file_name_ref={qa_file_name_ref}`\"))\n",
    "elif qa_file_name_ref == 'None':\n",
    "    qa_file_name_ref = None\n",
    "    display(Markdown(f\"`qa_file_name_ref` = None and we are set to not to use the reference histograms\"))\n",
    "    \n"
   ]
  },
  {
   "cell_type": "code",
   "execution_count": 10,
   "metadata": {
    "execution": {
     "iopub.execute_input": "2021-04-14T19:15:14.605454Z",
     "iopub.status.busy": "2021-04-14T19:15:14.604158Z",
     "iopub.status.idle": "2021-04-14T19:15:14.776158Z",
     "shell.execute_reply": "2021-04-14T19:15:14.775449Z"
    }
   },
   "outputs": [
    {
     "data": {
      "text/markdown": [
       "Openning QA file at `G4sPHENIX_test-tracking_Event50_Sum10_qa.root`"
      ],
      "text/plain": [
       "<IPython.core.display.Markdown object>"
      ]
     },
     "metadata": {},
     "output_type": "display_data"
    },
    {
     "data": {
      "text/markdown": [
       "Openning QA reference file at `reference/G4sPHENIX_test-tracking_Event50_Sum10_qa.root`"
      ],
      "text/plain": [
       "<IPython.core.display.Markdown object>"
      ]
     },
     "metadata": {},
     "output_type": "display_data"
    }
   ],
   "source": [
    "# qa_file_new = ROOT.TFile.Open(qa_file_name_new);\n",
    "\n",
    "# assert qa_file_new.IsOpen()\n",
    "# qa_file_new.ls()\n",
    "display(Markdown(f\"Openning QA file at `{qa_file_name_new}`\"))\n",
    "ROOT.gInterpreter.ProcessLine(f\"TFile *qa_file_new = new TFile(\\\"{qa_file_name_new}\\\");\")\n",
    "ROOT.gInterpreter.ProcessLine(f\"const char * qa_file_name_new = \\\"{qa_file_name_new}\\\";\")\n",
    "\n",
    "if qa_file_name_ref is not None:\n",
    "#     qa_file_ref = ROOT.TFile.Open(qa_file_name_ref);\n",
    "\n",
    "#     assert qa_file_ref.IsOpen()\n",
    "    display(Markdown(f\"Openning QA reference file at `{qa_file_name_ref}`\"))\n",
    "    ROOT.gInterpreter.ProcessLine(f\"TFile *qa_file_ref = new TFile(\\\"{qa_file_name_ref}\\\");\")\n",
    "    ROOT.gInterpreter.ProcessLine(f\"const char *  qa_file_name_ref = \\\"{qa_file_name_ref}\\\";\")\n",
    "else:\n",
    "    ROOT.gInterpreter.ProcessLine(f\"TFile *qa_file_ref = nullptr;\")\n",
    "    ROOT.gInterpreter.ProcessLine(f\"const char *  qa_file_name_ref = nullptr;\")\n"
   ]
  },
  {
   "cell_type": "code",
   "execution_count": 11,
   "metadata": {
    "execution": {
     "iopub.execute_input": "2021-04-14T19:15:14.793242Z",
     "iopub.status.busy": "2021-04-14T19:15:14.792119Z",
     "iopub.status.idle": "2021-04-14T19:15:14.897241Z",
     "shell.execute_reply": "2021-04-14T19:15:14.898296Z"
    },
    "scrolled": true
   },
   "outputs": [],
   "source": [
    "%%cpp\n",
    "\n",
    "if (qa_file_new == nullptr) \n",
    "{\n",
    "    cout <<\"Error, can not open QA root file\"<<qa_file_name_new<<endl;\n",
    "    exit(1);\n",
    "}\n",
    "\n",
    "// list inputs histograms if needed\n",
    "// qa_file_new ->ls();\n",
    "\n",
    "//TFile *qa_file_ref = NULL;\n",
    "//if (qa_file_name_ref)\n",
    "//{\n",
    "//    qa_file_ref = new TFile(qa_file_name_ref);\n",
    "//  \n",
    "//    if (qa_file_ref == nullptr) \n",
    "//    {\n",
    "//        cout <<\"Error, can not open QA root file\"<<qa_file_name_ref<<endl;\n",
    "//        exit(1);\n",
    "//    }\n",
    "//}"
   ]
  },
  {
   "cell_type": "markdown",
   "metadata": {},
   "source": [
    "# Truth matched efficiency and $p_T$ resolution"
   ]
  },
  {
   "cell_type": "markdown",
   "metadata": {},
   "source": [
    "## Match truth track to reco tracks\n",
    "\n",
    "Reco track matched with truth track. Please note the efficiency only require truth-reco matching in unique pairs, no cut on the reco quality is required, as defined in [`QAG4SimulationTracking::process_event(PHCompositeNode * )`](https://sphenix-collaboration.github.io/doxygen/de/dbf/classQAG4SimulationTracking.html#ac2aeab5238fcf828f70c61b4976b57fe)"
   ]
  },
  {
   "cell_type": "code",
   "execution_count": 12,
   "metadata": {
    "execution": {
     "iopub.execute_input": "2021-04-14T19:15:15.214243Z",
     "iopub.status.busy": "2021-04-14T19:15:15.213641Z",
     "iopub.status.idle": "2021-04-14T19:15:15.677176Z",
     "shell.execute_reply": "2021-04-14T19:15:15.678218Z"
    }
   },
   "outputs": [
    {
     "data": {
      "image/png": "[encoded data removed]",
      "text/plain": [
       "<IPython.core.display.Image object>"
      ]
     },
     "metadata": {},
     "output_type": "display_data"
    }
   ],
   "source": [
    "%%cpp\n",
    "\n",
    "{\n",
    "  //base histogram from the reco module name \n",
    "  const char *hist_name_prefix = \"QAG4SimulationTracking\";\n",
    "  TString prefix = TString(\"h_\") + hist_name_prefix + TString(\"_\");\n",
    "    \n",
    "  // obtain normalization\n",
    "  double Nevent_new = 1;\n",
    "  double Nevent_ref = 1;\n",
    "\n",
    "  TCanvas *c1 = new TCanvas(TString(\"QA_Draw_Tracking_TruthMatchingOverview\") +\n",
    "                                TString(\"_\") + hist_name_prefix,\n",
    "                            TString(\"QA_Draw_Tracking_TruthMatchingOverview\") +\n",
    "                                TString(\"_\") + hist_name_prefix,\n",
    "                            1800, 1000);\n",
    "  c1->Divide(3, 1);\n",
    "  int idx = 1;\n",
    "  TPad *p;\n",
    "\n",
    "  {\n",
    "    static const int nrebin = 5;\n",
    "\n",
    "    p = (TPad *)c1->cd(idx++);\n",
    "    c1->Update();\n",
    "    p->SetLogx();\n",
    "    p->SetGridy();\n",
    "\n",
    "    TH1 *h_pass =\n",
    "        (TH1 *)qa_file_new->GetObjectChecked(prefix + \"nReco_pTGen\", \"TH1\");\n",
    "    TH1 *h_norm =\n",
    "        (TH1 *)qa_file_new->GetObjectChecked(prefix + \"nGen_pTGen\", \"TH1\");\n",
    "    assert(h_norm);\n",
    "    assert(h_pass);\n",
    "      \n",
    "      h_norm->SetDirectory(nullptr);\n",
    "      h_pass->SetDirectory(nullptr);\n",
    "\n",
    "    h_norm->Rebin(nrebin);\n",
    "    h_pass->Rebin(nrebin);\n",
    "\n",
    "    TH1 *h_ratio = GetBinominalRatio(h_pass, h_norm);\n",
    "\n",
    "    //    h_ratio->GetXaxis()->SetRangeUser(min_Et, max_Et);\n",
    "    h_ratio->GetYaxis()->SetTitle(\"Reco efficiency\");\n",
    "    h_ratio->GetYaxis()->SetRangeUser(-0, 1.);\n",
    "\n",
    "    TH1 *h_ratio_ref = NULL;\n",
    "    if (qa_file_ref) {\n",
    "      TH1 *h_pass =\n",
    "          (TH1 *)qa_file_ref->GetObjectChecked(prefix + \"nReco_pTGen\", \"TH1\");\n",
    "      TH1 *h_norm =\n",
    "          (TH1 *)qa_file_ref->GetObjectChecked(prefix + \"nGen_pTGen\", \"TH1\");\n",
    "      assert(h_norm);\n",
    "      assert(h_pass);\n",
    "      h_norm->SetDirectory(nullptr);\n",
    "      h_pass->SetDirectory(nullptr);\n",
    "      h_norm->Rebin(nrebin);\n",
    "      h_pass->Rebin(nrebin);\n",
    "      h_ratio_ref = GetBinominalRatio(h_pass, h_norm);\n",
    "    }\n",
    "\n",
    "    h_ratio->SetTitle(TString(hist_name_prefix) + \": Tracking Efficiency\");\n",
    "\n",
    "    DrawReference(h_ratio, h_ratio_ref, false);\n",
    "  }\n",
    "\n",
    "  {\n",
    "    static const int nrebin = 4;\n",
    "\n",
    "    p = (TPad *)c1->cd(idx++);\n",
    "    c1->Update();\n",
    "    // p->SetLogx();\n",
    "    p->SetGridy();\n",
    "\n",
    "    TH1 *h_pass =\n",
    "        (TH1 *)qa_file_new->GetObjectChecked(prefix + \"nReco_etaGen\", \"TH1\");\n",
    "    TH1 *h_norm =\n",
    "        (TH1 *)qa_file_new->GetObjectChecked(prefix + \"nGen_etaGen\", \"TH1\");\n",
    "    assert(h_norm);\n",
    "    assert(h_pass);\n",
    "\n",
    "      h_norm->SetDirectory(nullptr);\n",
    "      h_pass->SetDirectory(nullptr);\n",
    "    h_norm->Rebin(nrebin);\n",
    "    h_pass->Rebin(nrebin);\n",
    "\n",
    "    TH1 *h_ratio = GetBinominalRatio(h_pass, h_norm);\n",
    "\n",
    "    h_ratio->GetXaxis()->SetRangeUser(-1.1, 1.1);\n",
    "    h_ratio->GetYaxis()->SetTitle(\"Reco efficiency\");\n",
    "    h_ratio->GetYaxis()->SetRangeUser(-0, 1.);\n",
    "\n",
    "    TH1 *h_ratio_ref = NULL;\n",
    "    if (qa_file_ref) {\n",
    "      TH1 *h_pass =\n",
    "          (TH1 *)qa_file_ref->GetObjectChecked(prefix + \"nReco_etaGen\", \"TH1\");\n",
    "      TH1 *h_norm =\n",
    "          (TH1 *)qa_file_ref->GetObjectChecked(prefix + \"nGen_etaGen\", \"TH1\");\n",
    "      assert(h_norm);\n",
    "      assert(h_pass);\n",
    "      h_norm->SetDirectory(nullptr);\n",
    "      h_pass->SetDirectory(nullptr);\n",
    "      h_norm->Rebin(nrebin);\n",
    "      h_pass->Rebin(nrebin);\n",
    "      h_ratio_ref = GetBinominalRatio(h_pass, h_norm);\n",
    "    }\n",
    "\n",
    "    h_ratio->SetTitle(TString(hist_name_prefix) + \": Tracking Efficiency\");\n",
    "\n",
    "    DrawReference(h_ratio, h_ratio_ref, false);\n",
    "  }\n",
    "\n",
    "  {\n",
    "    p = (TPad *)c1->cd(idx++);\n",
    "    c1->Update();\n",
    "    //    p->SetLogx();\n",
    "    TH1 *frame = p->DrawFrame(0, .9, 50, 1.1,\n",
    "                              \"Mean and sigma, p_{T,reco}/p_{T,truth};Truth p_{T} [GeV/c];<p_{T,reco}/p_{T,truth}> #pm #sigma(p_{T,reco}/p_{T,truth})\");\n",
    "    //gPad->SetLeftMargin(.2);\n",
    "    gPad->SetTopMargin(-1);\n",
    "    frame->GetYaxis()->SetTitleOffset(1.7);\n",
    "    //TLine *l = new TLine(0, 1, 50, 1);\n",
    "    //l->SetLineColor(kGray);\n",
    "    //l->Draw();\n",
    "    HorizontalLine( gPad, 1 )->Draw();\n",
    "\n",
    "    TH2 *h_QAG4SimulationTracking_pTRecoGenRatio_pTGen =\n",
    "        (TH2 *)qa_file_new->GetObjectChecked(prefix + \"pTRecoGenRatio_pTGen\",\n",
    "                                             \"TH2\");\n",
    "    assert(h_QAG4SimulationTracking_pTRecoGenRatio_pTGen);\n",
    "\n",
    "      h_QAG4SimulationTracking_pTRecoGenRatio_pTGen->SetDirectory(nullptr);\n",
    "    h_QAG4SimulationTracking_pTRecoGenRatio_pTGen->Rebin2D(16, 1);\n",
    "\n",
    "    TGraphErrors *ge_QAG4SimulationTracking_pTRecoGenRatio_pTGen =\n",
    "        FitProfile(h_QAG4SimulationTracking_pTRecoGenRatio_pTGen);\n",
    "    ge_QAG4SimulationTracking_pTRecoGenRatio_pTGen->Draw(\"pe\");\n",
    "    ge_QAG4SimulationTracking_pTRecoGenRatio_pTGen->SetTitle(\n",
    "        \"Mean and sigma, p_{T,reco}/p_{T,truth}\");\n",
    "\n",
    "    TGraphErrors *h_ratio_ref = NULL;\n",
    "    if (qa_file_ref) {\n",
    "      TH2 *h_QAG4SimulationTracking_pTRecoGenRatio_pTGen =\n",
    "          (TH2 *)qa_file_ref->GetObjectChecked(prefix + \"pTRecoGenRatio_pTGen\",\n",
    "                                               \"TH2\");\n",
    "      assert(h_QAG4SimulationTracking_pTRecoGenRatio_pTGen);\n",
    "\n",
    "      h_QAG4SimulationTracking_pTRecoGenRatio_pTGen->SetDirectory(nullptr);\n",
    "      h_QAG4SimulationTracking_pTRecoGenRatio_pTGen->Rebin2D(16, 1);\n",
    "\n",
    "      h_ratio_ref = FitProfile(h_QAG4SimulationTracking_pTRecoGenRatio_pTGen);\n",
    "      ge_QAG4SimulationTracking_pTRecoGenRatio_pTGen->Draw(\"pe\");\n",
    "    }\n",
    "\n",
    "    DrawReference(ge_QAG4SimulationTracking_pTRecoGenRatio_pTGen, h_ratio_ref,\n",
    "                  true);\n",
    "  }\n",
    "\n",
    "  //SaveCanvas(c1,\n",
    "  //           TString(qa_file_name_new) + TString(\"_\") + TString(c1->GetName()),\n",
    "  //           true);\n",
    "    \n",
    "  c1->Draw();\n",
    "}"
   ]
  },
  {
   "cell_type": "markdown",
   "metadata": {},
   "source": [
    "# $p_T$ resolution and lineshape"
   ]
  },
  {
   "cell_type": "code",
   "execution_count": 13,
   "metadata": {
    "execution": {
     "iopub.execute_input": "2021-04-14T19:15:23.348514Z",
     "iopub.status.busy": "2021-04-14T19:15:23.346946Z",
     "iopub.status.idle": "2021-04-14T19:15:23.453755Z",
     "shell.execute_reply": "2021-04-14T19:15:23.454484Z"
    }
   },
   "outputs": [
    {
     "name": "stderr",
     "output_type": "stream",
     "text": [
      "Warning in <Fit>: Fit data is empty \n",
      "\n",
      "Thread 9 (Thread 0x7fc3508e3700 (LWP 27967)):\n",
      "#0  0x00007fc36228ed43 in epoll_wait () from /usr/lib64/libc.so.6\n",
      "#1  0x00007fc35383be3f in ?? () from /var/lib/jenkins/workspace/sPHENIX/test-tracking-high-occupancy-qa/QA-gallery/env/lib/python3.8/site-packages/zmq/backend/cython/../../../pyzmq.libs/libzmq-0dcb31d9.so.5.2.4\n",
      "#2  0x00007fc35385bdf9 in ?? () from /var/lib/jenkins/workspace/sPHENIX/test-tracking-high-occupancy-qa/QA-gallery/env/lib/python3.8/site-packages/zmq/backend/cython/../../../pyzmq.libs/libzmq-0dcb31d9.so.5.2.4\n",
      "#3  0x00007fc35388407c in ?? () from /var/lib/jenkins/workspace/sPHENIX/test-tracking-high-occupancy-qa/QA-gallery/env/lib/python3.8/site-packages/zmq/backend/cython/../../../pyzmq.libs/libzmq-0dcb31d9.so.5.2.4\n",
      "#4  0x00007fc362c68dc5 in start_thread () from /usr/lib64/libpthread.so.0\n",
      "#5  0x00007fc36228e76d in clone () from /usr/lib64/libc.so.6\n",
      "\n",
      "Thread 8 (Thread 0x7fc3500e2700 (LWP 27968)):\n",
      "#0  0x00007fc36228ed43 in epoll_wait () from /usr/lib64/libc.so.6\n",
      "#1  0x00007fc35383be3f in ?? () from /var/lib/jenkins/workspace/sPHENIX/test-tracking-high-occupancy-qa/QA-gallery/env/lib/python3.8/site-packages/zmq/backend/cython/../../../pyzmq.libs/libzmq-0dcb31d9.so.5.2.4\n",
      "#2  0x00007fc35385bdf9 in ?? () from /var/lib/jenkins/workspace/sPHENIX/test-tracking-high-occupancy-qa/QA-gallery/env/lib/python3.8/site-packages/zmq/backend/cython/../../../pyzmq.libs/libzmq-0dcb31d9.so.5.2.4\n",
      "#3  0x00007fc35388407c in ?? () from /var/lib/jenkins/workspace/sPHENIX/test-tracking-high-occupancy-qa/QA-gallery/env/lib/python3.8/site-packages/zmq/backend/cython/../../../pyzmq.libs/libzmq-0dcb31d9.so.5.2.4\n",
      "#4  0x00007fc362c68dc5 in start_thread () from /usr/lib64/libpthread.so.0\n",
      "#5  0x00007fc36228e76d in clone () from /usr/lib64/libc.so.6\n",
      "\n",
      "Thread 7 (Thread 0x7fc34f8e1700 (LWP 27969)):\n",
      "#0  0x00007fc362c6ca82 in pthread_cond_timedwait\n",
      "\n",
      "GLIBC_2.3.2 () from /usr/lib64/libpthread.so.0\n",
      "#1  0x00007fc36326145c in PyCOND_TIMEDWAIT (us=<optimized out>, mut=<optimized out>, cond=<optimized out>) at Python/condvar.h:73\n",
      "#2  take_gil (tstate=0x1171ad0, ceval=<optimized out>) at Python/ceval_gil.h:206\n",
      "#3  PyEval_RestoreThread () at Python/ceval.c:399\n",
      "#4  0x00007fc35b1481c5 in select_epoll_poll_impl (self=0x7fc3508eb690, maxevents=<optimized out>, timeout_obj=<optimized out>) at /direct/phenix+u/phnxbld/workarea/sPHENIX_SL7.3/gcc-8.3/Python-3.8.0/Modules/selectmodule.c:1559\n",
      "#5  select_epoll_poll (self=0x7fc3508eb690, args=<optimized out>, args\n",
      "entry=0x16d5530, nargs=nargs\n",
      "entry=2, kwnames=kwnames\n",
      "entry=0x0) at /direct/phenix+u/phnxbld/workarea/sPHENIX_SL7.3/gcc-8.3/Python-3.8.0/Modules/clinic/selectmodule.c.h:859\n",
      "#6  0x00007fc3631e5cec in method_vectorcall_FASTCALL_KEYWORDS () at Objects/descrobject.c:371\n",
      "#7  0x00007fc36325a9c0 in _PyObject_Vectorcall (kwnames=0x0, nargsf=<optimized out>, args=0x16d5528, callable=0x7fc35b587810) at ./Include/cpython/abstract.h:127\n",
      "#8  call_function (kwnames=0x0, oparg=<optimized out>, pp_stack=<synthetic pointer>, tstate=0x1171ad0) at Python/ceval.c:4987\n",
      "#9  _PyEval_EvalFrameDefault () at Python/ceval.c:3486\n",
      "#10 0x00007fc3632594f1 in _PyEval_EvalCodeWithName () at Python/ceval.c:4298\n",
      "#11 0x00007fc3631e00f2 in _PyFunction_Vectorcall.localalias.7 () at Objects/call.c:435\n",
      "#12 0x00007fc36325a9c0 in _PyObject_Vectorcall (kwnames=0x0, nargsf=<optimized out>, args=0x7fc340000f10, callable=0x7fc35b10f790) at ./Include/cpython/abstract.h:127\n",
      "#13 call_function (kwnames=0x0, oparg=<optimized out>, pp_stack=<synthetic pointer>, tstate=0x1171ad0) at Python/ceval.c:4987\n",
      "#14 _PyEval_EvalFrameDefault () at Python/ceval.c:3486\n",
      "#15 0x00007fc3631e005a in function_code_fastcall (globals=<optimized out>, nargs=1, args=<optimized out>, co=<optimized out>) at Objects/call.c:283\n",
      "#16 _PyFunction_Vectorcall.localalias.7 () at Objects/call.c:410\n",
      "#17 0x00007fc36325a9c0 in _PyObject_Vectorcall (kwnames=0x0, nargsf=<optimized out>, args=0x7fc35090c1c0, callable=0x7fc3554d2280) at ./Include/cpython/abstract.h:127\n",
      "#18 call_function (kwnames=0x0, oparg=<optimized out>, pp_stack=<synthetic pointer>, tstate=0x1171ad0) at Python/ceval.c:4987\n",
      "#19 _PyEval_EvalFrameDefault () at Python/ceval.c:3486\n",
      "#20 0x00007fc3631e005a in function_code_fastcall (globals=<optimized out>, nargs=1, args=<optimized out>, co=<optimized out>) at Objects/call.c:283\n",
      "#21 _PyFunction_Vectorcall.localalias.7 () at Objects/call.c:410\n",
      "#22 0x00007fc36325a9c0 in _PyObject_Vectorcall (kwnames=0x0, nargsf=<optimized out>, args=0x7fc350902ee0, callable=0x7fc3554ce700) at ./Include/cpython/abstract.h:127\n",
      "#23 call_function (kwnames=0x0, oparg=<optimized out>, pp_stack=<synthetic pointer>, tstate=0x1171ad0) at Python/ceval.c:4987\n",
      "#24 _PyEval_EvalFrameDefault () at Python/ceval.c:3486\n",
      "#25 0x00007fc3631e005a in function_code_fastcall (globals=<optimized out>, nargs=1, args=<optimized out>, co=<optimized out>) at Objects/call.c:283\n",
      "#26 _PyFunction_Vectorcall.localalias.7 () at Objects/call.c:410\n",
      "#27 0x00007fc36325a9c0 in _PyObject_Vectorcall (kwnames=0x0, nargsf=<optimized out>, args=0x7fc35090b1b8, callable=0x7fc351576940) at ./Include/cpython/abstract.h:127\n",
      "#28 call_function (kwnames=0x0, oparg=<optimized out>, pp_stack=<synthetic pointer>, tstate=0x1171ad0) at Python/ceval.c:4987\n",
      "#29 _PyEval_EvalFrameDefault () at Python/ceval.c:3486\n",
      "#30 0x00007fc3631e005a in function_code_fastcall (globals=<optimized out>, nargs=1, args=<optimized out>, co=<optimized out>) at Objects/call.c:283\n",
      "#31 _PyFunction_Vectorcall.localalias.7 () at Objects/call.c:410\n",
      "#32 0x00007fc3631e23f9 in _PyObject_Vectorcall (kwnames=<optimized out>, nargsf=<optimized out>, args=<optimized out>, callable=<optimized out>) at ./Include/cpython/abstract.h:127\n",
      "#33 method_vectorcall () at Objects/classobject.c:67\n",
      "#34 0x00007fc3631e117d in PyVectorcall_Call () at Objects/call.c:199\n",
      "#35 0x00007fc36325c3dc in do_call_core (kwdict=0x7fc3508e5080, callargs=0x7fc36381d040, func=0x7fc35095e180, tstate=<optimized out>) at Python/ceval.c:5034\n",
      "#36 _PyEval_EvalFrameDefault () at Python/ceval.c:3559\n",
      "#37 0x00007fc3631e005a in function_code_fastcall (globals=<optimized out>, nargs=1, args=<optimized out>, co=<optimized out>) at Objects/call.c:283\n",
      "#38 _PyFunction_Vectorcall.localalias.7 () at Objects/call.c:410\n",
      "#39 0x00007fc36325a9c0 in _PyObject_Vectorcall (kwnames=0x0, nargsf=<optimized out>, args=0x7fc3509055b8, callable=0x7fc35b586670) at ./Include/cpython/abstract.h:127\n",
      "#40 call_function (kwnames=0x0, oparg=<optimized out>, pp_stack=<synthetic pointer>, tstate=0x1171ad0) at Python/ceval.c:4987\n",
      "#41 _PyEval_EvalFrameDefault () at Python/ceval.c:3486\n",
      "#42 0x00007fc3631e005a in function_code_fastcall (globals=<optimized out>, nargs=1, args=<optimized out>, co=<optimized out>) at Objects/call.c:283\n",
      "#43 _PyFunction_Vectorcall.localalias.7 () at Objects/call.c:410\n",
      "#44 0x00007fc36325a9c0 in _PyObject_Vectorcall (kwnames=0x0, nargsf=<optimized out>, args=0x7fc350909538, callable=0x7fc35b586940) at ./Include/cpython/abstract.h:127\n",
      "#45 call_function (kwnames=0x0, oparg=<optimized out>, pp_stack=<synthetic pointer>, tstate=0x1171ad0) at Python/ceval.c:4987\n",
      "#46 _PyEval_EvalFrameDefault () at Python/ceval.c:3486\n",
      "#47 0x00007fc3631e005a in function_code_fastcall (globals=<optimized out>, nargs=1, args=<optimized out>, co=<optimized out>) at Objects/call.c:283\n",
      "#48 _PyFunction_Vectorcall.localalias.7 () at Objects/call.c:410\n",
      "#49 0x00007fc3631e23f9 in _PyObject_Vectorcall (kwnames=<optimized out>, nargsf=<optimized out>, args=<optimized out>, callable=<optimized out>) at ./Include/cpython/abstract.h:127\n",
      "#50 method_vectorcall () at Objects/classobject.c:67\n",
      "#51 0x00007fc3631e117d in PyVectorcall_Call () at Objects/call.c:199\n",
      "#52 0x00007fc3632fd987 in t_bootstrap () at ./Modules/_threadmodule.c:1002\n",
      "#53 0x00007fc3632e67d4 in pythread_wrapper (arg=<optimized out>) at Python/thread_pthread.h:232\n",
      "#54 0x00007fc362c68dc5 in start_thread () from /usr/lib64/libpthread.so.0\n",
      "#55 0x00007fc36228e76d in clone () from /usr/lib64/libc.so.6\n",
      "\n",
      "Thread 6 (Thread 0x7fc34f0e0700 (LWP 27970)):\n",
      "#0  0x00007fc362283e2d in poll () from /usr/lib64/libc.so.6\n",
      "#1  0x00007fc35389982f in zmq_poll () from /var/lib/jenkins/workspace/sPHENIX/test-tracking-high-occupancy-qa/QA-gallery/env/lib/python3.8/site-packages/zmq/backend/cython/../../../pyzmq.libs/libzmq-0dcb31d9.so.5.2.4\n",
      "#2  0x00007fc35385d15d in ?? () from /var/lib/jenkins/workspace/sPHENIX/test-tracking-high-occupancy-qa/QA-gallery/env/lib/python3.8/site-packages/zmq/backend/cython/../../../pyzmq.libs/libzmq-0dcb31d9.so.5.2.4\n",
      "#3  0x00007fc35389a717 in zmq_proxy () from /var/lib/jenkins/workspace/sPHENIX/test-tracking-high-occupancy-qa/QA-gallery/env/lib/python3.8/site-packages/zmq/backend/cython/../../../pyzmq.libs/libzmq-0dcb31d9.so.5.2.4\n",
      "#4  0x00007fc351c5be43 in ?? () from /var/lib/jenkins/workspace/sPHENIX/test-tracking-high-occupancy-qa/QA-gallery/env/lib/python3.8/site-packages/zmq/backend/cython/_device.cpython-38-x86_64-linux-gnu.so\n",
      "#5  0x00007fc351c5b275 in ?? () from /var/lib/jenkins/workspace/sPHENIX/test-tracking-high-occupancy-qa/QA-gallery/env/lib/python3.8/site-packages/zmq/backend/cython/_device.cpython-38-x86_64-linux-gnu.so\n",
      "#6  0x00007fc3631df8e4 in _PyObject_MakeTpCall () at Objects/call.c:159\n",
      "#7  0x00007fc36325efd4 in _PyObject_Vectorcall (kwnames=0x0, nargsf=<optimized out>, args=0x7fc35090a5a8, callable=<optimized out>) at ./Include/cpython/abstract.h:125\n",
      "#8  _PyObject_Vectorcall (kwnames=0x0, nargsf=<optimized out>, args=0x7fc35090a5a8, callable=<optimized out>) at ./Include/cpython/abstract.h:115\n",
      "#9  call_function (kwnames=0x0, oparg=<optimized out>, pp_stack=<synthetic pointer>, tstate=0x1035b00) at Python/ceval.c:4987\n",
      "#10 _PyEval_EvalFrameDefault () at Python/ceval.c:3469\n",
      "#11 0x00007fc3631e005a in function_code_fastcall (globals=<optimized out>, nargs=1, args=<optimized out>, co=<optimized out>) at Objects/call.c:283\n",
      "#12 _PyFunction_Vectorcall.localalias.7 () at Objects/call.c:410\n",
      "#13 0x00007fc36325a9c0 in _PyObject_Vectorcall (kwnames=0x0, nargsf=<optimized out>, args=0x7fc3509057b8, callable=0x7fc3509d0430) at ./Include/cpython/abstract.h:127\n",
      "#14 call_function (kwnames=0x0, oparg=<optimized out>, pp_stack=<synthetic pointer>, tstate=0x1035b00) at Python/ceval.c:4987\n",
      "#15 _PyEval_EvalFrameDefault () at Python/ceval.c:3486\n",
      "#16 0x00007fc3631e005a in function_code_fastcall (globals=<optimized out>, nargs=1, args=<optimized out>, co=<optimized out>) at Objects/call.c:283\n",
      "#17 _PyFunction_Vectorcall.localalias.7 () at Objects/call.c:410\n",
      "#18 0x00007fc36325a9c0 in _PyObject_Vectorcall (kwnames=0x0, nargsf=<optimized out>, args=0x7fc350909df8, callable=0x7fc35b586940) at ./Include/cpython/abstract.h:127\n",
      "#19 call_function (kwnames=0x0, oparg=<optimized out>, pp_stack=<synthetic pointer>, tstate=0x1035b00) at Python/ceval.c:4987\n",
      "#20 _PyEval_EvalFrameDefault () at Python/ceval.c:3486\n",
      "#21 0x00007fc3631e005a in function_code_fastcall (globals=<optimized out>, nargs=1, args=<optimized out>, co=<optimized out>) at Objects/call.c:283\n",
      "#22 _PyFunction_Vectorcall.localalias.7 () at Objects/call.c:410\n",
      "#23 0x00007fc3631e23f9 in _PyObject_Vectorcall (kwnames=<optimized out>, nargsf=<optimized out>, args=<optimized out>, callable=<optimized out>) at ./Include/cpython/abstract.h:127\n",
      "#24 method_vectorcall () at Objects/classobject.c:67\n",
      "#25 0x00007fc3631e117d in PyVectorcall_Call () at Objects/call.c:199\n",
      "#26 0x00007fc3632fd987 in t_bootstrap () at ./Modules/_threadmodule.c:1002\n",
      "#27 0x00007fc3632e67d4 in pythread_wrapper (arg=<optimized out>) at Python/thread_pthread.h:232\n",
      "#28 0x00007fc362c68dc5 in start_thread () from /usr/lib64/libpthread.so.0\n",
      "#29 0x00007fc36228e76d in clone () from /usr/lib64/libc.so.6\n",
      "\n",
      "Thread 5 (Thread 0x7fc34e8df700 (LWP 27971)):\n",
      "#0  0x00007fc36228ed43 in epoll_wait () from /usr/lib64/libc.so.6\n",
      "#1  0x00007fc35383be3f in ?? () from /var/lib/jenkins/workspace/sPHENIX/test-tracking-high-occupancy-qa/QA-gallery/env/lib/python3.8/site-packages/zmq/backend/cython/../../../pyzmq.libs/libzmq-0dcb31d9.so.5.2.4\n",
      "#2  0x00007fc35385bdf9 in ?? () from /var/lib/jenkins/workspace/sPHENIX/test-tracking-high-occupancy-qa/QA-gallery/env/lib/python3.8/site-packages/zmq/backend/cython/../../../pyzmq.libs/libzmq-0dcb31d9.so.5.2.4\n",
      "#3  0x00007fc35388407c in ?? () from /var/lib/jenkins/workspace/sPHENIX/test-tracking-high-occupancy-qa/QA-gallery/env/lib/python3.8/site-packages/zmq/backend/cython/../../../pyzmq.libs/libzmq-0dcb31d9.so.5.2.4\n",
      "#4  0x00007fc362c68dc5 in start_thread () from /usr/lib64/libpthread.so.0\n",
      "#5  0x00007fc36228e76d in clone () from /usr/lib64/libc.so.6\n",
      "\n",
      "Thread 4 (Thread 0x7fc34e0de700 (LWP 27972)):\n",
      "#0  0x00007fc36228ed43 in epoll_wait () from /usr/lib64/libc.so.6\n",
      "#1  0x00007fc35383be3f in ?? () from /var/lib/jenkins/workspace/sPHENIX/test-tracking-high-occupancy-qa/QA-gallery/env/lib/python3.8/site-packages/zmq/backend/cython/../../../pyzmq.libs/libzmq-0dcb31d9.so.5.2.4\n",
      "#2  0x00007fc35385bdf9 in ?? () from /var/lib/jenkins/workspace/sPHENIX/test-tracking-high-occupancy-qa/QA-gallery/env/lib/python3.8/site-packages/zmq/backend/cython/../../../pyzmq.libs/libzmq-0dcb31d9.so.5.2.4\n",
      "#3  0x00007fc35388407c in ?? () from /var/lib/jenkins/workspace/sPHENIX/test-tracking-high-occupancy-qa/QA-gallery/env/lib/python3.8/site-packages/zmq/backend/cython/../../../pyzmq.libs/libzmq-0dcb31d9.so.5.2.4\n",
      "#4  0x00007fc362c68dc5 in start_thread () from /usr/lib64/libpthread.so.0\n",
      "#5  0x00007fc36228e76d in clone () from /usr/lib64/libc.so.6\n",
      "\n",
      "Thread 3 (Thread 0x7fc34d85d700 (LWP 27973)):\n",
      "#0  0x00007fc362285bd3 in select () from /usr/lib64/libc.so.6\n",
      "#1  0x00007fc3632fcf4e in pysleep (secs=<optimized out>) at ./Modules/timemodule.c:1849\n",
      "#2  time_sleep () at ./Modules/timemodule.c:338\n",
      "#3  0x00007fc36320d06f in cfunction_vectorcall_O () at Objects/methodobject.c:481\n",
      "#4  0x00007fc36325ea89 in _PyObject_Vectorcall (kwnames=0x0, nargsf=<optimized out>, args=0x7fc34d85e5b0, callable=0x7fc3637d5090) at ./Include/cpython/abstract.h:127\n",
      "#5  call_function (kwnames=0x0, oparg=<optimized out>, pp_stack=<synthetic pointer>, tstate=0x11e6d00) at Python/ceval.c:4987\n",
      "#6  _PyEval_EvalFrameDefault () at Python/ceval.c:3469\n",
      "#7  0x00007fc3631e005a in function_code_fastcall (globals=<optimized out>, nargs=1, args=<optimized out>, co=<optimized out>) at Objects/call.c:283\n",
      "#8  _PyFunction_Vectorcall.localalias.7 () at Objects/call.c:410\n",
      "#9  0x00007fc36325a9c0 in _PyObject_Vectorcall (kwnames=0x0, nargsf=<optimized out>, args=0x7fc34d8d53b8, callable=0x7fc350943d30) at ./Include/cpython/abstract.h:127\n",
      "#10 call_function (kwnames=0x0, oparg=<optimized out>, pp_stack=<synthetic pointer>, tstate=0x11e6d00) at Python/ceval.c:4987\n",
      "#11 _PyEval_EvalFrameDefault () at Python/ceval.c:3486\n",
      "#12 0x00007fc3631e005a in function_code_fastcall (globals=<optimized out>, nargs=1, args=<optimized out>, co=<optimized out>) at Objects/call.c:283\n",
      "#13 _PyFunction_Vectorcall.localalias.7 () at Objects/call.c:410\n",
      "#14 0x00007fc36325a9c0 in _PyObject_Vectorcall (kwnames=0x0, nargsf=<optimized out>, args=0x7fc34d8d6c38, callable=0x7fc35b586940) at ./Include/cpython/abstract.h:127\n",
      "#15 call_function (kwnames=0x0, oparg=<optimized out>, pp_stack=<synthetic pointer>, tstate=0x11e6d00) at Python/ceval.c:4987\n",
      "#16 _PyEval_EvalFrameDefault () at Python/ceval.c:3486\n",
      "#17 0x00007fc3631e005a in function_code_fastcall (globals=<optimized out>, nargs=1, args=<optimized out>, co=<optimized out>) at Objects/call.c:283\n",
      "#18 _PyFunction_Vectorcall.localalias.7 () at Objects/call.c:410\n",
      "#19 0x00007fc3631e23f9 in _PyObject_Vectorcall (kwnames=<optimized out>, nargsf=<optimized out>, args=<optimized out>, callable=<optimized out>) at ./Include/cpython/abstract.h:127\n",
      "#20 method_vectorcall () at Objects/classobject.c:67\n",
      "#21 0x00007fc3631e117d in PyVectorcall_Call () at Objects/call.c:199\n",
      "#22 0x00007fc3632fd987 in t_bootstrap () at ./Modules/_threadmodule.c:1002\n",
      "#23 0x00007fc3632e67d4 in pythread_wrapper (arg=<optimized out>) at Python/thread_pthread.h:232\n",
      "#24 0x00007fc362c68dc5 in start_thread () from /usr/lib64/libpthread.so.0\n",
      "#25 0x00007fc36228e76d in clone () from /usr/lib64/libc.so.6\n",
      "\n",
      "Thread 2 (Thread 0x7fc321ce7700 (LWP 27990)):\n",
      "#0  0x00007fc362c6ca82 in pthread_cond_timedwait\n",
      "\n",
      "GLIBC_2.3.2 () from /usr/lib64/libpthread.so.0\n",
      "#1  0x00007fc36326145c in PyCOND_TIMEDWAIT (us=<optimized out>, mut=<optimized out>, cond=<optimized out>) at Python/condvar.h:73\n",
      "#2  take_gil (tstate=0x6103290, ceval=<optimized out>) at Python/ceval_gil.h:206\n",
      "#3  PyEval_RestoreThread () at Python/ceval.c:399\n",
      "#4  0x00007fc36329e1cb in acquire_timed (timeout=-1000000000, lock=0x7fc31c000f50) at ./Modules/_threadmodule.c:64\n",
      "#5  lock_PyThread_acquire_lock () at ./Modules/_threadmodule.c:146\n",
      "#6  0x00007fc3631e55a7 in method_vectorcall_VARARGS_KEYWORDS () at Objects/descrobject.c:332\n",
      "#7  0x00007fc36325a9c0 in _PyObject_Vectorcall (kwnames=0x0, nargsf=<optimized out>, args=0x4fe2f68, callable=0x7fc363806c70) at ./Include/cpython/abstract.h:127\n",
      "#8  call_function (kwnames=0x0, oparg=<optimized out>, pp_stack=<synthetic pointer>, tstate=0x6103290) at Python/ceval.c:4987\n",
      "#9  _PyEval_EvalFrameDefault () at Python/ceval.c:3486\n",
      "#10 0x00007fc3632594f1 in _PyEval_EvalCodeWithName () at Python/ceval.c:4298\n",
      "#11 0x00007fc3631e00f2 in _PyFunction_Vectorcall.localalias.7 () at Objects/call.c:435\n",
      "#12 0x00007fc36325a9c0 in _PyObject_Vectorcall (kwnames=0x0, nargsf=<optimized out>, args=0x7fc321d057e8, callable=0x7fc35b583310) at ./Include/cpython/abstract.h:127\n",
      "#13 call_function (kwnames=0x0, oparg=<optimized out>, pp_stack=<synthetic pointer>, tstate=0x6103290) at Python/ceval.c:4987\n",
      "#14 _PyEval_EvalFrameDefault () at Python/ceval.c:3486\n",
      "#15 0x00007fc3632594f1 in _PyEval_EvalCodeWithName () at Python/ceval.c:4298\n",
      "#16 0x00007fc3631e00f2 in _PyFunction_Vectorcall.localalias.7 () at Objects/call.c:435\n",
      "#17 0x00007fc36325a9c0 in _PyObject_Vectorcall (kwnames=0x0, nargsf=<optimized out>, args=0x7fc322177380, callable=0x7fc354e9e700) at ./Include/cpython/abstract.h:127\n",
      "#18 call_function (kwnames=0x0, oparg=<optimized out>, pp_stack=<synthetic pointer>, tstate=0x6103290) at Python/ceval.c:4987\n",
      "#19 _PyEval_EvalFrameDefault () at Python/ceval.c:3486\n",
      "#20 0x00007fc3631e005a in function_code_fastcall (globals=<optimized out>, nargs=1, args=<optimized out>, co=<optimized out>) at Objects/call.c:283\n",
      "#21 _PyFunction_Vectorcall.localalias.7 () at Objects/call.c:410\n",
      "#22 0x00007fc36325a9c0 in _PyObject_Vectorcall (kwnames=0x0, nargsf=<optimized out>, args=0x7fc32218e5b8, callable=0x7fc3221718b0) at ./Include/cpython/abstract.h:127\n",
      "#23 call_function (kwnames=0x0, oparg=<optimized out>, pp_stack=<synthetic pointer>, tstate=0x6103290) at Python/ceval.c:4987\n",
      "#24 _PyEval_EvalFrameDefault () at Python/ceval.c:3486\n",
      "#25 0x00007fc3631e005a in function_code_fastcall (globals=<optimized out>, nargs=1, args=<optimized out>, co=<optimized out>) at Objects/call.c:283\n",
      "#26 _PyFunction_Vectorcall.localalias.7 () at Objects/call.c:410\n",
      "#27 0x00007fc36325a9c0 in _PyObject_Vectorcall (kwnames=0x0, nargsf=<optimized out>, args=0x7fc322156c38, callable=0x7fc35b586940) at ./Include/cpython/abstract.h:127\n",
      "#28 call_function (kwnames=0x0, oparg=<optimized out>, pp_stack=<synthetic pointer>, tstate=0x6103290) at Python/ceval.c:4987\n",
      "#29 _PyEval_EvalFrameDefault () at Python/ceval.c:3486\n",
      "#30 0x00007fc3631e005a in function_code_fastcall (globals=<optimized out>, nargs=1, args=<optimized out>, co=<optimized out>) at Objects/call.c:283\n",
      "#31 _PyFunction_Vectorcall.localalias.7 () at Objects/call.c:410\n",
      "#32 0x00007fc3631e23f9 in _PyObject_Vectorcall (kwnames=<optimized out>, nargsf=<optimized out>, args=<optimized out>, callable=<optimized out>) at ./Include/cpython/abstract.h:127\n",
      "#33 method_vectorcall () at Objects/classobject.c:67\n",
      "#34 0x00007fc3631e117d in PyVectorcall_Call () at Objects/call.c:199\n",
      "#35 0x00007fc3632fd987 in t_bootstrap () at ./Modules/_threadmodule.c:1002\n",
      "#36 0x00007fc3632e67d4 in pythread_wrapper (arg=<optimized out>) at Python/thread_pthread.h:232\n",
      "#37 0x00007fc362c68dc5 in start_thread () from /usr/lib64/libpthread.so.0\n",
      "#38 0x00007fc36228e76d in clone () from /usr/lib64/libc.so.6\n",
      "\n",
      "Thread 1 (Thread 0x7fc363864740 (LWP 27959)):\n",
      "#0  0x00007fc3622552c9 in waitpid () from /usr/lib64/libc.so.6\n",
      "#1  0x00007fc3621d8c72 in do_system () from /usr/lib64/libc.so.6\n",
      "#2  0x00007fc3621d9021 in system () from /usr/lib64/libc.so.6\n",
      "#3  0x00007fc34c71b3c3 in Exec (shellcmd=<optimized out>, this=0x15aa9b0) at /phenix/u/phnxbld/workarea/sPHENIX_SL7.3/gcc-8.3/root-6.22.02/root-6.22.02/core/unix/src/TUnixSystem.cxx:2117\n",
      "#4  TUnixSystem::StackTrace() () at /phenix/u/phnxbld/workarea/sPHENIX_SL7.3/gcc-8.3/root-6.22.02/root-6.22.02/core/unix/src/TUnixSystem.cxx:2408\n",
      "#5  0x00007fc3338c5288 in cling::MultiplexInterpreterCallbacks::PrintStackTrace() () from /cvmfs/sphenix.sdcc.bnl.gov/gcc-8.3/opt/sphenix/core/root-6.22.02/lib/libCling.so\n",
      "#6  0x00007fc3338c4baa in cling_runtime_internal_throwIfInvalidPointer () from /cvmfs/sphenix.sdcc.bnl.gov/gcc-8.3/opt/sphenix/core/root-6.22.02/lib/libCling.so\n",
      "#7  0x00007fc3200cf7cc in ?? ()\n",
      "#8  0x0000000009dff568 in ?? ()\n",
      "#9  0x0000000000000054 in ?? ()\n",
      "#10 0x0000000009df9ca8 in ?? ()\n",
      "#11 0x0000000000000164 in ?? ()\n",
      "#12 0x0000000009df2940 in ?? ()\n",
      "#13 0x00007fc3346d76e0 in llvm::object::ELFFile<llvm::object::ELFType<(llvm::support::endianness)1, true> >::getSection(llvm::object::Elf_Sym_Impl<llvm::object::ELFType<(llvm::support::endianness)1, true> > const*, llvm::object::Elf_Shdr_Impl<llvm::object::ELFType<(llvm::support::endianness)1, true> > const*, llvm::ArrayRef<llvm::support::detail::packed_endian_specific_integral<unsigned int, (llvm::support::endianness)1, 2ul> >) const () from /cvmfs/sphenix.sdcc.bnl.gov/gcc-8.3/opt/sphenix/core/root-6.22.02/lib/libCling.so\n",
      "#14 0x00007fc363654d3b in do_lookup_x () from /lib64/ld-linux-x86-64.so.2\n",
      "#15 0x00007fc32094bd20 in ?? () at /phenix/u/phnxbld/workarea/sPHENIX_SL7.3/gcc-8.3/root-6.22.02/root-6.22.02/hist/hist/src/TH1.cxx:717 from /cvmfs/sphenix.sdcc.bnl.gov/gcc-8.3/opt/sphenix/core/root-6.22.02/lib/libHist.so\n",
      "#16 0x00007fc3200cc850 in ?? ()\n",
      "#17 0x0000000006d5cfd0 in ?? ()\n",
      "#18 0x0000000004ab9020 in ?? ()\n",
      "#19 0x00007fc3208cebe0 in ?? () at /phenix/u/phnxbld/workarea/sPHENIX_SL7.3/gcc-8.3/root-6.22.02/root-6.22.02/hist/hist/src/TF1.cxx:3817 from /cvmfs/sphenix.sdcc.bnl.gov/gcc-8.3/opt/sphenix/core/root-6.22.02/lib/libHist.so\n",
      "#20 0x0000000004ab9020 in ?? ()\n",
      "#21 0x0000000004ab9020 in ?? ()\n",
      "#22 0x00007fc34c620d00 in ?? () at /phenix/u/phnxbld/workarea/sPHENIX_SL7.3/gcc-8.3/root-6.22.02/root-6.22.02/core/base/inc/TObject.h:172 from /cvmfs/sphenix.sdcc.bnl.gov/gcc-8.3/opt/sphenix/core/root-6.22.02/lib/libCore.so\n",
      "#23 0x0000000006d5d048 in ?? ()\n",
      "#24 0x00007fc34c63ecb0 in ?? () at /phenix/u/phnxbld/workarea/sPHENIX_SL7.3/gcc-8.3/root-6.22.02/root-6.22.02/core/base/src/TString.cxx:2294 from /cvmfs/sphenix.sdcc.bnl.gov/gcc-8.3/opt/sphenix/core/root-6.22.02/lib/libCore.so\n",
      "#25 0x0000000006d5d048 in ?? ()\n",
      "#26 0x0000000006d5d048 in ?? ()\n",
      "#27 0x0000000006d5cfd0 in ?? ()\n",
      "#28 0x00007fc34c63ad00 in ?? () at /phenix/u/phnxbld/workarea/sPHENIX_SL7.3/gcc-8.3/root-6.22.02/root-6.22.02/core/base/src/TString.cxx:2406 from /cvmfs/sphenix.sdcc.bnl.gov/gcc-8.3/opt/sphenix/core/root-6.22.02/lib/libCore.so\n",
      "#29 0x0000000007dc6710 in ?? ()\n",
      "#30 0x00007fc34c63ecb0 in ?? () at /phenix/u/phnxbld/workarea/sPHENIX_SL7.3/gcc-8.3/root-6.22.02/root-6.22.02/core/base/src/TString.cxx:2294 from /cvmfs/sphenix.sdcc.bnl.gov/gcc-8.3/opt/sphenix/core/root-6.22.02/lib/libCore.so\n",
      "#31 0x00007fc320957180 in ?? () at /phenix/u/phnxbld/workarea/sPHENIX_SL7.3/gcc-8.3/root-6.22.02/root-6.22.02/hist/hist/inc/TH1.h:394 from /cvmfs/sphenix.sdcc.bnl.gov/gcc-8.3/opt/sphenix/core/root-6.22.02/lib/libHist.so\n",
      "#32 0x0000000006d5cfd0 in ?? ()\n",
      "#33 0x00007fc34c63af00 in ?? () at /phenix/u/phnxbld/workarea/sPHENIX_SL7.3/gcc-8.3/root-6.22.02/root-6.22.02/core/base/src/TString.cxx:97 from /cvmfs/sphenix.sdcc.bnl.gov/gcc-8.3/opt/sphenix/core/root-6.22.02/lib/libCore.so\n",
      "#34 0x0000000006d5cfd0 in ?? ()\n",
      "#35 0x0000000006d5d048 in ?? ()\n",
      "#36 0x0000000006d5d048 in ?? ()\n",
      "#37 0x0000000006d5cfd0 in ?? ()\n",
      "#38 0x00007fc3338c4ac0 in ?? () from /cvmfs/sphenix.sdcc.bnl.gov/gcc-8.3/opt/sphenix/core/root-6.22.02/lib/libCling.so\n",
      "#39 0x0000000006d5cfd0 in ?? ()\n",
      "#40 0x0000000006370b00 in ?? ()\n",
      "#41 0x00007fc34c63ecb0 in ?? () at /phenix/u/phnxbld/workarea/sPHENIX_SL7.3/gcc-8.3/root-6.22.02/root-6.22.02/core/base/src/TString.cxx:2294 from /cvmfs/sphenix.sdcc.bnl.gov/gcc-8.3/opt/sphenix/core/root-6.22.02/lib/libCore.so\n",
      "#42 0x0000000009dff5a8 in ?? ()\n",
      "#43 0x0000000004aac4c0 in ?? ()\n",
      "#44 0x0000000008879ad0 in ?? ()\n",
      "#45 0x0000000008879ad0 in ?? ()\n",
      "#46 0x0000000008879ad0 in ?? ()\n",
      "#47 0x000000046386bc20 in ?? ()\n",
      "#48 0x0000000008879b48 in ?? ()\n",
      "#49 0x0000000008879b48 in ?? ()\n",
      "#50 0x0000000008879ad0 in ?? ()\n",
      "#51 0x0000000135ccda78 in ?? ()\n",
      "#52 0x0000000008879b48 in ?? ()\n",
      "#53 0x0000000008879b48 in ?? ()\n",
      "#54 0x0000000008879ad0 in ?? ()\n",
      "#55 0x0000000004ac8510 in ?? ()\n",
      "#56 0x000000000888e000 in ?? ()\n",
      "#57 0x0000000004ac8510 in ?? ()\n",
      "#58 0x000000000888e000 in ?? ()\n",
      "#59 0x00007fff5cd7e2a0 in ?? ()\n",
      "#60 0x00007fff5cd7e2a8 in ?? ()\n",
      "#61 0x00007fff5cd7e4d8 in ?? ()\n",
      "#62 0x00007fff5cd7e4d8 in ?? ()\n",
      "#63 0x00007fc31b7b3110 in ?? () at /phenix/u/phnxbld/workarea/sPHENIX_SL7.3/gcc-8.3/root-6.22.02/root-6.22.02/core/base/inc/TQObject.h:164 from /cvmfs/sphenix.sdcc.bnl.gov/gcc-8.3/opt/sphenix/core/root-6.22.02/lib/libGpad.so\n",
      "#64 0x000000003c23d70a in ?? ()\n",
      "#65 0x000000000888e000 in ?? ()\n",
      "#66 0x00007fc3338c4ac0 in ?? () from /cvmfs/sphenix.sdcc.bnl.gov/gcc-8.3/opt/sphenix/core/root-6.22.02/lib/libCling.so\n",
      "#67 0x00007fc34c63ad00 in ?? () at /phenix/u/phnxbld/workarea/sPHENIX_SL7.3/gcc-8.3/root-6.22.02/root-6.22.02/core/base/src/TString.cxx:2406 from /cvmfs/sphenix.sdcc.bnl.gov/gcc-8.3/opt/sphenix/core/root-6.22.02/lib/libCore.so\n",
      "#68 0x000000000888c1c0 in ?? ()\n",
      "#69 0x0000000008903700 in ?? ()\n",
      "#70 0x000000000888e000 in ?? ()\n",
      "#71 0x000000000888e000 in ?? ()\n",
      "#72 0x0000000008875920 in ?? ()\n",
      "#73 0x0000000000000000 in ?? ()\n",
      "Error in <HandleInterpreterException>: Trying to dereference null pointer or trying to call routine taking non-null arguments.\n",
      "Execution of your code was aborted.\n",
      "input_line_112:81:13: warning: null passed to a callee that requires a non-null argument [-Wnonnull]\n",
      "    sigma = fit->GetParameter(2);\n",
      "            ^~~\n"
     ]
    }
   ],
   "source": [
    "%%cpp\n",
    "\n",
    "{\n",
    "    const char *hist_name_prefix = \"QAG4SimulationTracking\";\n",
    "    TString prefix = TString(\"h_\") + hist_name_prefix + TString(\"_\");\n",
    "    \n",
    "  // obtain normalization\n",
    "  double Nevent_new = 1;\n",
    "  double Nevent_ref = 1;\n",
    "    \n",
    "    \n",
    "  TH2 *h_new = (TH2 *) qa_file_new->GetObjectChecked(\n",
    "      prefix + TString(\"pTRecoGenRatio_pTGen\"), \"TH2\");\n",
    "  assert(h_new);\n",
    "\n",
    "  //  h_new->Rebin(1, 2);\n",
    "  //h_new->Sumw2();\n",
    "  //  h_new->Scale(1. / Nevent_new);\n",
    "\n",
    "  TH2 *h_ref = NULL;\n",
    "  if (qa_file_ref)\n",
    "  {\n",
    "    h_ref = (TH2 *) qa_file_ref->GetObjectChecked(\n",
    "        prefix + TString(\"pTRecoGenRatio_pTGen\"), \"TH2\");\n",
    "    assert(h_ref);\n",
    "\n",
    "    //    h_ref->Rebin(1, 2);\n",
    "    //h_ref->Sumw2();\n",
    "    h_ref->Scale(Nevent_new / Nevent_ref);\n",
    "  }\n",
    "\n",
    "  TCanvas *c1 = new TCanvas(TString(\"QA_Draw_Tracking_pTRatio\") + TString(\"_\") + hist_name_prefix,\n",
    "                            TString(\"QA_Draw_Tracking_pTRatio\") + TString(\"_\") + hist_name_prefix,\n",
    "                            1800, 1000);\n",
    "  c1->Divide(4, 2);\n",
    "  int idx = 1;\n",
    "  TPad *p;\n",
    "\n",
    "  vector<pair<double, double>> gpt_ranges{\n",
    "      {0, 1},\n",
    "      {1, 5},\n",
    "      {5, 10},\n",
    "      {10, 20},\n",
    "      {20, 30},\n",
    "      {30, 40},\n",
    "      {40, 45},\n",
    "      {45, 50}};\n",
    "  TF1 *f1 = nullptr;\n",
    "  TF1 *fit = nullptr;\n",
    "  Double_t sigma = 0;\n",
    "  Double_t sigma_unc = 0;\n",
    "  char resstr[500];\n",
    "  TLatex *res = nullptr;\n",
    "  for (auto pt_range : gpt_ranges)\n",
    "  {\n",
    "    //cout << __PRETTY_FUNCTION__ << \" process \" << pt_range.first << \" - \" << pt_range.second << \" GeV/c\";\n",
    "\n",
    "    p = (TPad *) c1->cd(idx++);\n",
    "    c1->Update();\n",
    "    p->SetLogy();\n",
    "\n",
    "    const double epsilon = 1e-6;\n",
    "    const int bin_start = h_new->GetXaxis()->FindBin(pt_range.first + epsilon);\n",
    "    const int bin_end = h_new->GetXaxis()->FindBin(pt_range.second - epsilon);\n",
    "\n",
    "    TH1 *h_proj_new = h_new->ProjectionY(\n",
    "        TString::Format(\n",
    "            \"%s_New_ProjX_%d_%d\",\n",
    "            h_new->GetName(), bin_start, bin_end),\n",
    "        bin_start, bin_end);\n",
    "\n",
    "    h_proj_new->GetXaxis()->SetRangeUser(.7, 1.3);\n",
    "    h_proj_new->SetTitle(TString(hist_name_prefix) + TString::Format(\n",
    "                                                         \": %.1f - %.1f GeV/c\", pt_range.first, pt_range.second));\n",
    "    h_proj_new->GetXaxis()->SetTitle(TString::Format(\n",
    "        \"Reco p_{T}/Truth p_{T}\"));\n",
    "\n",
    "    f1 = new TF1(\"f1\", \"gaus\", -.85, 1.15);\n",
    "    h_proj_new->Fit(f1, \"mq\");\n",
    "    fit = h_proj_new->GetFunction(\"f1\");\n",
    "    sigma = fit->GetParameter(2);\n",
    "    sigma_unc = fit->GetParError(2);\n",
    "\n",
    "    TH1 *h_proj_ref = nullptr;\n",
    "    if (h_ref)\n",
    "      h_proj_ref =\n",
    "          h_ref->ProjectionY(\n",
    "              TString::Format(\n",
    "                  \"%s_Ref_ProjX_%d_%d\",\n",
    "                  h_new->GetName(), bin_start, bin_end),\n",
    "              bin_start, bin_end);\n",
    "\n",
    "    DrawReference(h_proj_new, h_proj_ref);\n",
    "    sprintf(resstr, \"#sigma = %.5f #pm %.5f\", sigma, sigma_unc);\n",
    "    res = new TLatex(0.325, 0.825, resstr);\n",
    "    res->SetNDC();\n",
    "    res->SetTextSize(0.05);\n",
    "    res->SetTextAlign(13);\n",
    "    res->Draw();\n",
    "  }\n",
    "\n",
    " // SaveCanvas(c1, TString(qa_file_name_new) + TString(\"_\") + TString(c1->GetName()), true);\n",
    "    c1->Draw();\n",
    "}"
   ]
  },
  {
   "cell_type": "markdown",
   "metadata": {},
   "source": [
    "## Match reco track to truth track\n",
    "\n",
    "Probability of truth track matched with each reco track, that reflect a flavor of track purity. \n",
    "\n",
    "Please note the efficiency only require truth-reco matching in unique pairs, no cut on the reco quality is required, as defined in [`QAG4SimulationTracking::process_event(PHCompositeNode * )`](https://sphenix-collaboration.github.io/doxygen/de/dbf/classQAG4SimulationTracking.html#ac2aeab5238fcf828f70c61b4976b57fe)"
   ]
  },
  {
   "cell_type": "code",
   "execution_count": 14,
   "metadata": {
    "execution": {
     "iopub.execute_input": "2021-04-14T19:15:23.729690Z",
     "iopub.status.busy": "2021-04-14T19:15:23.729081Z",
     "iopub.status.idle": "2021-04-14T19:15:23.955762Z",
     "shell.execute_reply": "2021-04-14T19:15:23.956874Z"
    }
   },
   "outputs": [
    {
     "name": "stdout",
     "output_type": "stream",
     "text": [
      "KSTestSummary::PushKSTest - Warning - received pValue = 0. Reset to an arbitary small non-zero value (e^(-15))\n"
     ]
    },
    {
     "name": "stderr",
     "output_type": "stream",
     "text": [
      "Error in <TH1F::KolmogorovTest>: Histogram1 h_QAG4SimulationTracking_nGen_pTReco_Ratio integral is zero\n",
      "\n"
     ]
    },
    {
     "data": {
      "image/png": "[encoded data removed]",
      "text/plain": [
       "<IPython.core.display.Image object>"
      ]
     },
     "metadata": {},
     "output_type": "display_data"
    }
   ],
   "source": [
    "%%cpp\n",
    "\n",
    "{\n",
    "const char *hist_name_prefix = \"QAG4SimulationTracking\";\n",
    "    TString prefix = TString(\"h_\") + hist_name_prefix + TString(\"_\");\n",
    "    \n",
    "    \n",
    "  // obtain normalization\n",
    "  double Nevent_new = 1;\n",
    "  double Nevent_ref = 1;\n",
    "\n",
    "  if (qa_file_new)\n",
    "  {\n",
    "    //cout << \"Open new QA file \" << qa_file_new->GetName() << endl;\n",
    "\n",
    "    TH1 *h_norm = (TH1 *) qa_file_new->GetObjectChecked(\n",
    "        prefix + TString(\"Normalization\"), \"TH1\");\n",
    "    assert(h_norm);\n",
    "\n",
    "    Nevent_new = h_norm->GetBinContent(h_norm->GetXaxis()->FindBin(\"Event\"));\n",
    "  }\n",
    "  if (qa_file_ref)\n",
    "  {\n",
    "   // cout << \"Open ref QA file \" << qa_file_ref->GetName() << endl;\n",
    "    TH1 *h_norm = (TH1 *) qa_file_ref->GetObjectChecked(\n",
    "        prefix + TString(\"Normalization\"), \"TH1\");\n",
    "    assert(h_norm);\n",
    "\n",
    "    Nevent_ref = h_norm->GetBinContent(h_norm->GetXaxis()->FindBin(\"Event\"));\n",
    "  }\n",
    "    \n",
    "    \n",
    "  TCanvas *c1 = new TCanvas(TString(\"QA_Draw_Tracking_RecoTruthMatching\") +\n",
    "                                TString(\"_\") + hist_name_prefix,\n",
    "                            TString(\"QA_Draw_Tracking_RecoTruthMatching\") +\n",
    "                                TString(\"_\") + hist_name_prefix,\n",
    "                            1800, 1000);\n",
    "  c1->Divide(2, 1);\n",
    "  int idx = 1;\n",
    "  TPad *p;\n",
    "\n",
    "  {\n",
    "    static const int nrebin = 5;\n",
    "\n",
    "    p = (TPad *) c1->cd(idx++);\n",
    "    c1->Update();\n",
    "    p->SetLogx();\n",
    "    p->SetGridy();\n",
    "\n",
    "    TH1 *h_pass =\n",
    "        (TH1 *) qa_file_new->GetObjectChecked(prefix + \"nGen_pTReco\", \"TH1\");\n",
    "    TH1 *h_norm =\n",
    "        (TH1 *) qa_file_new->GetObjectChecked(prefix + \"nReco_pTReco\", \"TH1\");\n",
    "    assert(h_norm);\n",
    "    assert(h_pass);\n",
    "      \n",
    "      h_norm->SetDirectory(nullptr);\n",
    "      h_pass->SetDirectory(nullptr);\n",
    "\n",
    "    h_norm->Rebin(nrebin);\n",
    "    h_pass->Rebin(nrebin);\n",
    "\n",
    "    TH1 *h_ratio = GetBinominalRatio(h_pass, h_norm);\n",
    "\n",
    "    //    h_ratio->GetXaxis()->SetRangeUser(min_Et, max_Et);\n",
    "    h_ratio->GetYaxis()->SetTitle(\"Tracking Purity\");\n",
    "    h_ratio->GetYaxis()->SetRangeUser(-0, 1.1);\n",
    "\n",
    "    TH1 *h_ratio_ref = NULL;\n",
    "    if (qa_file_ref)\n",
    "    {\n",
    "      TH1 *h_pass =\n",
    "          (TH1 *) qa_file_ref->GetObjectChecked(prefix + \"nGen_pTReco\", \"TH1\");\n",
    "      TH1 *h_norm =\n",
    "          (TH1 *) qa_file_ref->GetObjectChecked(prefix + \"nReco_pTReco\", \"TH1\");\n",
    "      assert(h_norm);\n",
    "      assert(h_pass);\n",
    "      h_norm->SetDirectory(nullptr);\n",
    "      h_pass->SetDirectory(nullptr);\n",
    "      h_norm->Rebin(nrebin);\n",
    "      h_pass->Rebin(nrebin);\n",
    "      h_ratio_ref = GetBinominalRatio(h_pass, h_norm);\n",
    "    }\n",
    "\n",
    "    h_ratio->SetTitle(\"Tracking Purity (matched truth-reco pairs)\");\n",
    "\n",
    "    DrawReference(h_ratio, h_ratio_ref, false);\n",
    "  }\n",
    "\n",
    "  {\n",
    "    p = (TPad *) c1->cd(idx++);\n",
    "    c1->Update();\n",
    "    //    p->SetLogx();\n",
    "    TH1 *frame = p->DrawFrame(0, .9, 50, 1.1,\n",
    "                              \"Mean and sigma p_{Tmatched}/p_{Treco};Reco p_{T} [GeV/c];<p_{T,matched}/p_{T,reco}> #pm #sigma(p_{T,matched}/p_{T,reco})\");\n",
    "    // gPad->SetLeftMargin(.2);\n",
    "    gPad->SetTopMargin(-1);\n",
    "    frame->GetYaxis()->SetTitleOffset(1.7);\n",
    "    // TLine *l = new TLine(0, 1, 50, 1);\n",
    "    // l->SetLineColor(kGray);\n",
    "    // l->Draw();\n",
    "    HorizontalLine(gPad, 1)->Draw();\n",
    "\n",
    "    TH2 *h_QAG4SimulationTracking_pTRecoTruthMatchedRatio_pTReco =\n",
    "        (TH2 *) qa_file_new->GetObjectChecked(\n",
    "            prefix + \"pTRecoTruthMatchedRatio_pTReco\", \"TH2\");\n",
    "    assert(h_QAG4SimulationTracking_pTRecoTruthMatchedRatio_pTReco);\n",
    "\n",
    "      h_QAG4SimulationTracking_pTRecoTruthMatchedRatio_pTReco->SetDirectory(nullptr);\n",
    "    h_QAG4SimulationTracking_pTRecoTruthMatchedRatio_pTReco->Rebin2D(16, 1);\n",
    "\n",
    "    TGraphErrors *ge_QAG4SimulationTracking_pTRecoTruthMatchedRatio_pTReco =\n",
    "        FitProfile(h_QAG4SimulationTracking_pTRecoTruthMatchedRatio_pTReco);\n",
    "    ge_QAG4SimulationTracking_pTRecoTruthMatchedRatio_pTReco->Draw(\"pe\");\n",
    "    ge_QAG4SimulationTracking_pTRecoTruthMatchedRatio_pTReco->SetTitle(\n",
    "        \"Mean and sigma p_{Tmatched}/p_{Treco}\");\n",
    "\n",
    "    TGraphErrors *h_ratio_ref = NULL;\n",
    "    if (qa_file_ref)\n",
    "    {\n",
    "      TH2 *h_QAG4SimulationTracking_pTRecoTruthMatchedRatio_pTReco =\n",
    "          (TH2 *) qa_file_ref->GetObjectChecked(\n",
    "              prefix + \"pTRecoTruthMatchedRatio_pTReco\", \"TH2\");\n",
    "      assert(h_QAG4SimulationTracking_pTRecoTruthMatchedRatio_pTReco);\n",
    "\n",
    "      h_QAG4SimulationTracking_pTRecoTruthMatchedRatio_pTReco->SetDirectory(nullptr);\n",
    "      h_QAG4SimulationTracking_pTRecoTruthMatchedRatio_pTReco->Rebin2D(16, 1);\n",
    "\n",
    "      h_ratio_ref =\n",
    "          FitProfile(h_QAG4SimulationTracking_pTRecoTruthMatchedRatio_pTReco);\n",
    "      ge_QAG4SimulationTracking_pTRecoTruthMatchedRatio_pTReco->Draw(\"pe\");\n",
    "    }\n",
    "\n",
    "    DrawReference(ge_QAG4SimulationTracking_pTRecoTruthMatchedRatio_pTReco,\n",
    "                  h_ratio_ref, true);\n",
    "  }\n",
    "\n",
    "    c1->Draw();\n",
    "}"
   ]
  },
  {
   "cell_type": "markdown",
   "metadata": {},
   "source": [
    "# Tracker hit checks\n",
    "\n",
    "Hits per tracker and layer"
   ]
  },
  {
   "cell_type": "markdown",
   "metadata": {},
   "source": [
    "## Number of clusters per tracker"
   ]
  },
  {
   "cell_type": "code",
   "execution_count": 15,
   "metadata": {
    "execution": {
     "iopub.execute_input": "2021-04-14T19:15:24.206108Z",
     "iopub.status.busy": "2021-04-14T19:15:23.962765Z",
     "iopub.status.idle": "2021-04-14T19:15:24.674478Z",
     "shell.execute_reply": "2021-04-14T19:15:24.675184Z"
    }
   },
   "outputs": [
    {
     "name": "stdout",
     "output_type": "stream",
     "text": [
      "KSTestSummary::PushKSTest - Warning - received pValue = 0. Reset to an arbitary small non-zero value (e^(-15))\n",
      "KSTestSummary::PushKSTest - Warning - received pValue = 0. Reset to an arbitary small non-zero value (e^(-15))\n",
      "KSTestSummary::PushKSTest - Warning - received pValue = 0. Reset to an arbitary small non-zero value (e^(-15))\n"
     ]
    },
    {
     "name": "stderr",
     "output_type": "stream",
     "text": [
      "Error in <TH1D::KolmogorovTest>: Histogram1 h_QAG4SimulationTracking_nMVTX_nReco_pTGen_nCluster_new integral is zero\n",
      "\n",
      "Error in <TH1D::KolmogorovTest>: Histogram1 h_QAG4SimulationTracking_nINTT_nReco_pTGen_nCluster_new integral is zero\n",
      "\n",
      "Error in <TH1D::KolmogorovTest>: Histogram1 h_QAG4SimulationTracking_nTPC_nReco_pTGen_nCluster_new integral is zero\n",
      "\n"
     ]
    },
    {
     "data": {
      "image/png": "[encoded data removed]",
      "text/plain": [
       "<IPython.core.display.Image object>"
      ]
     },
     "metadata": {},
     "output_type": "display_data"
    }
   ],
   "source": [
    "%%cpp\n",
    "{\n",
    "    const char *hist_name_prefix = \"QAG4SimulationTracking\";\n",
    "      TString prefix = TString(\"h_\") + hist_name_prefix + TString(\"_\");\n",
    "\n",
    "  // obtain normalization\n",
    "  double Nevent_new = 1;\n",
    "  double Nevent_ref = 1;\n",
    "    \n",
    "    \n",
    "\n",
    "  if (qa_file_new)\n",
    "  {\n",
    "    TH1 *h_norm = (TH1 *) qa_file_new->GetObjectChecked(\n",
    "        prefix + TString(\"Normalization\"), \"TH1\");\n",
    "    assert(h_norm);\n",
    "\n",
    "    Nevent_new = h_norm->GetBinContent(h_norm->GetXaxis()->FindBin(\"Event\"));\n",
    "  }\n",
    "  if (qa_file_ref)\n",
    "  {\n",
    "    TH1 *h_norm = (TH1 *) qa_file_ref->GetObjectChecked(\n",
    "        prefix + TString(\"Normalization\"), \"TH1\");\n",
    "    assert(h_norm);\n",
    "\n",
    "    Nevent_ref = h_norm->GetBinContent(h_norm->GetXaxis()->FindBin(\"Event\"));\n",
    "  }\n",
    "\n",
    "  //MVTX, INTT, TPC\n",
    "  vector<TString> detectors{\"MVTX\", \"INTT\", \"TPC\"};\n",
    "  vector<int> eff_ncluster_cuts{2, 2, 40};\n",
    "  vector<double> ncluster_spectrum_pt_cuts{2, 2, 2};\n",
    "  vector<TH2 *> h_pass_detectors(3, nullptr);\n",
    "  static const int nrebin = 5;\n",
    "\n",
    "  h_pass_detectors[0] = (TH2 *) qa_file_new->GetObjectChecked(\n",
    "      prefix + \"nMVTX_nReco_pTGen\", \"TH1\") ;\n",
    "  h_pass_detectors[1] = (TH2 *) qa_file_new->GetObjectChecked(\n",
    "      prefix + \"nINTT_nReco_pTGen\", \"TH1\") ;\n",
    "  h_pass_detectors[2] = (TH2 *) qa_file_new->GetObjectChecked(\n",
    "      prefix + \"nTPC_nReco_pTGen\", \"TH1\") ;\n",
    "\n",
    "  TH1 *h_norm = (TH1 *) qa_file_new->GetObjectChecked(\n",
    "      prefix + \"nGen_pTGen\", \"TH1\") ;\n",
    "  assert(h_norm);\n",
    "    h_norm->SetDirectory(nullptr);\n",
    "  h_norm->Rebin(nrebin);\n",
    "\n",
    "  vector<TH2 *> h_pass_detectors_ref(3, nullptr);\n",
    "  TH1 *h_norm_ref = nullptr;\n",
    "  if (qa_file_ref)\n",
    "  {\n",
    "    h_pass_detectors_ref[0] = (TH2 *) qa_file_ref->GetObjectChecked(\n",
    "        prefix + \"nMVTX_nReco_pTGen\", \"TH1\") ;\n",
    "    h_pass_detectors_ref[1] = (TH2 *) qa_file_ref->GetObjectChecked(\n",
    "        prefix + \"nINTT_nReco_pTGen\", \"TH1\") ;\n",
    "    h_pass_detectors_ref[2] = (TH2 *) qa_file_ref->GetObjectChecked(\n",
    "        prefix + \"nTPC_nReco_pTGen\", \"TH1\") ;\n",
    "\n",
    "    h_norm_ref = (TH1 *) qa_file_ref->GetObjectChecked(\n",
    "        prefix + \"nGen_pTGen\", \"TH1\") ;\n",
    "    h_norm_ref->SetDirectory(nullptr);\n",
    "    h_norm_ref->Rebin(nrebin);\n",
    "\n",
    "  }\n",
    "\n",
    "  TCanvas *c1 = new TCanvas(TString(\"QA_Draw_Tracking_TruthMatching_NumOfClusters\") + TString(\"_\") + hist_name_prefix,\n",
    "                            TString(\"QA_Draw_Tracking_TruthMatching_NumOfClusters\") + TString(\"_\") + hist_name_prefix,\n",
    "                            1800, 1000);\n",
    "  c1->Divide(3, 2);\n",
    "  TPad *p;\n",
    "\n",
    "  for (int i = 0; i < 3; ++i)\n",
    "  {\n",
    "    TString detector = detectors[i];\n",
    "    TH2 *h_pass_detector = h_pass_detectors[i];\n",
    "    TH2 *h_pass_detector_ref = h_pass_detectors_ref[i];\n",
    "    assert(h_pass_detector);\n",
    "\n",
    "    {\n",
    "      p = (TPad *) c1->cd(i + 1);\n",
    "      c1->Update();\n",
    "      p->SetLogy();\n",
    "\n",
    "      const int bin_start = h_pass_detector->GetXaxis()->FindBin(ncluster_spectrum_pt_cuts[i]);\n",
    "\n",
    "      TH1 *h_pass_detector_ncluster = h_pass_detector->ProjectionY(\n",
    "          TString(h_pass_detector->GetName()) + \"_nCluster_new\",\n",
    "          bin_start);\n",
    "      TH1 *h_pass_detector_ncluster_ref = nullptr;\n",
    "      if (h_pass_detector_ref)\n",
    "      {\n",
    "        h_pass_detector_ncluster_ref = h_pass_detector_ref->ProjectionY(\n",
    "            TString(h_pass_detector_ref->GetName()) + \"_nCluster_ref\",\n",
    "            bin_start);\n",
    "      }\n",
    "\n",
    "      h_pass_detector_ncluster->SetTitle(TString(hist_name_prefix) + \": \" + detector + Form(\" n_{Cluster} | p_{T} #geq %.1fGeV/c\", ncluster_spectrum_pt_cuts[i]));\n",
    "      h_pass_detector_ncluster->SetYTitle(\"# of reconstructed track\");\n",
    "      DrawReference(h_pass_detector_ncluster, h_pass_detector_ncluster_ref, false);\n",
    "    }\n",
    "\n",
    "    {\n",
    "      p = (TPad *) c1->cd(i + 3 + 1);\n",
    "      c1->Update();\n",
    "      p->SetLogx();\n",
    "      p->SetGridy();\n",
    "\n",
    "      const int bin_start = h_pass_detector->GetYaxis()->FindBin(eff_ncluster_cuts[i]);\n",
    "      TH1 *h_pass = h_pass_detector->ProjectionX(\n",
    "          TString(h_pass_detector->GetName()) + \"_nReco_new\",\n",
    "          bin_start);\n",
    "\n",
    "      assert(h_pass);\n",
    "        h_pass->SetDirectory(nullptr);\n",
    "      h_pass->Rebin(nrebin);\n",
    "\n",
    "      TH1 *h_ratio = GetBinominalRatio(h_pass, h_norm);\n",
    "      h_ratio->GetYaxis()->SetTitle(\"Reco efficiency | \" + detector + Form(\" n_{Cluster} #geq %d\", eff_ncluster_cuts[i]));\n",
    "      h_ratio->GetYaxis()->SetRangeUser(-0, 1.);\n",
    "      //\n",
    "      TH1 *h_ratio_ref = NULL;\n",
    "      if (h_pass_detector_ref)\n",
    "      {\n",
    "        TH1 *h_pass = h_pass_detector_ref->ProjectionX(\n",
    "            TString(h_pass_detector->GetName()) + \"_nReco_ref\",\n",
    "            bin_start);\n",
    "\n",
    "        assert(h_pass);\n",
    "        h_pass->SetDirectory(nullptr);\n",
    "      h_pass->Rebin(nrebin);\n",
    "\n",
    "        h_ratio_ref = GetBinominalRatio(h_pass, h_norm_ref);\n",
    "      }\n",
    "      //\n",
    "      h_ratio->SetTitle(\"Tracking efficiency | \" + detector + Form(\" n_{Cluster} #geq %d\", eff_ncluster_cuts[i]));\n",
    "      DrawReference(h_ratio, h_ratio_ref, false);\n",
    "    }\n",
    "  }\n",
    "\n",
    "  // SaveCanvas(c1, TString(qa_file_name_new) + TString(\"_\") + TString(c1->GetName()), true);\n",
    "    c1->Draw();\n",
    "}"
   ]
  },
  {
   "cell_type": "markdown",
   "metadata": {},
   "source": [
    "## Hits per layer"
   ]
  },
  {
   "cell_type": "code",
   "execution_count": 16,
   "metadata": {
    "execution": {
     "iopub.execute_input": "2021-04-14T19:15:24.714292Z",
     "iopub.status.busy": "2021-04-14T19:15:24.713360Z",
     "iopub.status.idle": "2021-04-14T19:15:24.817540Z",
     "shell.execute_reply": "2021-04-14T19:15:24.818527Z"
    }
   },
   "outputs": [],
   "source": [
    "%%cpp -d\n",
    "\n",
    "\n",
    "namespace\n",
    "{\n",
    "  // Normalization\n",
    "  double Nevent_new = 1;\n",
    "  double Nevent_ref = 1;\n",
    "\n",
    "  void GetNormalization(TFile *qa_file_new, TFile *qa_file_ref, const TString &prefix, const TString &tag)\n",
    "  {\n",
    "    if (qa_file_new)\n",
    "    {\n",
    "      TH1 *h_norm = (TH1 *) qa_file_new->GetObjectChecked(prefix + TString(\"Normalization\"), \"TH1\");\n",
    "      assert(h_norm);\n",
    "      Nevent_new = h_norm->GetBinContent(h_norm->GetXaxis()->FindBin(tag));\n",
    "    }\n",
    "\n",
    "    if (qa_file_ref)\n",
    "    {\n",
    "      TH1 *h_norm = (TH1 *) qa_file_ref->GetObjectChecked(prefix + TString(\"Normalization\"), \"TH1\");\n",
    "      assert(h_norm);\n",
    "      Nevent_ref = h_norm->GetBinContent(h_norm->GetXaxis()->FindBin(tag));\n",
    "    }\n",
    "  }\n",
    "\n",
    "  void Draw(TFile *qa_file_new, TFile *qa_file_ref, const TString &prefix, const TString &tag)\n",
    "  {\n",
    "    auto h_new = static_cast<TH1 *>(qa_file_new->GetObjectChecked(prefix + tag, \"TH1\"));\n",
    "    assert(h_new);\n",
    "    //h_new->Sumw2();\n",
    "    h_new->Scale(1. / Nevent_new);\n",
    "\n",
    "    TH1 *h_ref = nullptr;\n",
    "    if (qa_file_ref)\n",
    "    {\n",
    "      h_ref = static_cast<TH1 *>(qa_file_ref->GetObjectChecked(prefix + tag, \"TH1\"));\n",
    "      assert(h_ref);\n",
    "      //h_ref->Sumw2();\n",
    "      h_ref->Scale(1.0 / Nevent_ref);\n",
    "    }\n",
    "\n",
    "    DrawReference(h_new, h_ref);\n",
    "    HorizontalLine(gPad, 1)->Draw();\n",
    "  }\n",
    "\n",
    "}  // namespace"
   ]
  },
  {
   "cell_type": "code",
   "execution_count": 17,
   "metadata": {
    "execution": {
     "iopub.execute_input": "2021-04-14T19:15:24.895334Z",
     "iopub.status.busy": "2021-04-14T19:15:24.894715Z",
     "iopub.status.idle": "2021-04-14T19:15:25.216054Z",
     "shell.execute_reply": "2021-04-14T19:15:25.215538Z"
    }
   },
   "outputs": [
    {
     "name": "stdout",
     "output_type": "stream",
     "text": [
      "KSTestSummary::PushKSTest - Warning - received pValue = 0. Reset to an arbitary small non-zero value (e^(-15))\n"
     ]
    },
    {
     "data": {
      "image/png": "[encoded data removed]",
      "text/plain": [
       "<IPython.core.display.Image object>"
      ]
     },
     "metadata": {},
     "output_type": "display_data"
    }
   ],
   "source": [
    "%%cpp\n",
    "{\n",
    "     const char *hist_name_prefix = \"QAG4SimulationTracking\";\n",
    "      TString prefix = TString(\"h_\") + hist_name_prefix + TString(\"_\");\n",
    "\n",
    "  auto c1 = new TCanvas(TString(\"QA_Draw_Tracking_nClus_Layer\") + TString(\"_\") + hist_name_prefix,\n",
    "                        TString(\"QA_Draw_Tracking_nClus_Layer\") + TString(\"_\") + hist_name_prefix,\n",
    "                        1800, 1000);\n",
    "\n",
    "  c1->Divide(2, 1);\n",
    "  c1->cd(1);\n",
    "  GetNormalization(qa_file_new, qa_file_ref, prefix, \"Truth Track\");\n",
    "  Draw(qa_file_new, qa_file_ref, prefix, \"nClus_layerGen\");\n",
    "\n",
    "  c1->cd(2);\n",
    "  GetNormalization(qa_file_new, qa_file_ref, prefix, \"Reco Track\");\n",
    "  Draw(qa_file_new, qa_file_ref, prefix, \"nClus_layer\");\n",
    "\n",
    "  // SaveCanvas(c1, TString(qa_file_name_new) + TString(\"_\") + TString(c1->GetName()), true);\n",
    "    c1->Draw();\n",
    "}"
   ]
  },
  {
   "cell_type": "markdown",
   "metadata": {},
   "source": []
  },
  {
   "cell_type": "markdown",
   "metadata": {},
   "source": [
    "# Upsilon reconstruction\n",
    "\n",
    "One $\\Upsilon(1S) \\rightarrow e^+ e^-$ is embedded. Here is its reco results"
   ]
  },
  {
   "cell_type": "code",
   "execution_count": 18,
   "metadata": {
    "execution": {
     "iopub.execute_input": "2021-04-14T19:15:25.229785Z",
     "iopub.status.busy": "2021-04-14T19:15:25.228877Z",
     "iopub.status.idle": "2021-04-14T19:15:25.333679Z",
     "shell.execute_reply": "2021-04-14T19:15:25.332718Z"
    }
   },
   "outputs": [],
   "source": [
    "%%cpp -d\n",
    "\n",
    "// square\n",
    "inline double square( const double& x ) { return x*x; }\n",
    "\n",
    "// christal ball function for momentum resolution fit\n",
    "Double_t CBcalc(Double_t *xx, Double_t *par)\n",
    "{\n",
    "  // Crystal Ball fit to one state\n",
    "  double f;\n",
    "  const double x = xx[0];\n",
    "\n",
    "  // The four parameters (alpha, n, x_mean, sigma) plus normalization (N) are:\n",
    "   \n",
    "  const double alpha = par[0];\n",
    "  const double n = par[1];\n",
    "  const double x_mean = par[2];\n",
    "  const double sigma = par[3];\n",
    "  const double N = par[4];\n",
    "\n",
    "  // dimensionless variable\n",
    "  const double t = (x-x_mean)/sigma;\n",
    "\n",
    "  // The Crystal Ball function is:\n",
    "   \n",
    "  if( t > -alpha)\n",
    "  {\n",
    "    return N * exp( -square(t)/2 );\n",
    "  }\n",
    "  else\n",
    "  {\n",
    "    const double A = pow( (n/TMath::Abs(alpha)),n) * exp(-square(alpha)/2.0);\n",
    "    const double B = n/TMath::Abs(alpha) - TMath::Abs(alpha);\n",
    "    return N * A * pow(B - t, -n);\n",
    "  }\n",
    "\n",
    "}\n",
    "\n",
    "// christal ball function for Upsilon fits\n",
    "Double_t CBcalc2(Double_t *xx, Double_t *par)\n",
    "{\n",
    "  // Crystal Ball fit to one state\n",
    "  const double x = xx[0];\n",
    "\n",
    "  /* The parameters are: \n",
    "   * N the normalization\n",
    "   * x_mean, sigma\n",
    "   * alpha_left, n_left\n",
    "   * alpha_right, n_right\n",
    "   */\n",
    "  const double N = par[0];\n",
    "  const double x_mean = par[1];\n",
    "  const double sigma = par[2];\n",
    "  const double t = (x-x_mean)/sigma;    \n",
    "\n",
    "  // left tail\n",
    "  const double alpha_left = std::abs(par[3]);\n",
    "  const double n_left = par[4];\n",
    "\n",
    "  // right tail\n",
    "  const double alpha_right = std::abs(par[5]);\n",
    "  const double n_right = par[6];\n",
    "    \n",
    "  // The Crystal Ball function is:   \n",
    "  if( t < -alpha_left )\n",
    "  {      \n",
    "    const double A = pow( (n_left/TMath::Abs(alpha_left)),n_left) * exp(-square(alpha_left)/2.0);\n",
    "    const double B = n_left/std::abs(alpha_left) - std::abs(alpha_left);\n",
    "    return N * A * pow(B - t, -n_left);\n",
    "  } else if( t > alpha_right ) {\n",
    "     const double A = pow( (n_right/TMath::Abs(alpha_right)),n_right) * exp(-square(alpha_right)/2.0);\n",
    "     const double B = n_right/std::abs(alpha_right) - std::abs(alpha_right);\n",
    "     return N * A * pow(B + t, -n_right);  \n",
    "  } else {\n",
    "      return N * exp( -square(t)/2);\n",
    "  }\n",
    "}\n"
   ]
  },
  {
   "cell_type": "code",
   "execution_count": 19,
   "metadata": {
    "execution": {
     "iopub.execute_input": "2021-04-14T19:15:25.473642Z",
     "iopub.status.busy": "2021-04-14T19:15:25.472983Z",
     "iopub.status.idle": "2021-04-14T19:15:25.579300Z",
     "shell.execute_reply": "2021-04-14T19:15:25.580018Z"
    }
   },
   "outputs": [
    {
     "name": "stdout",
     "output_type": "stream",
     "text": [
      "QAG4SimulationUpsilon is not enabled. Skip....\n"
     ]
    }
   ],
   "source": [
    "%%cpp\n",
    "\n",
    "{\n",
    "  const char *hist_name_prefix = \"QAG4SimulationUpsilon\";\n",
    "  TString prefix = TString(\"h_\") + hist_name_prefix + TString(\"_\");\n",
    "\n",
    "  // obtain normalization\n",
    "  double Nevent_new = 1;\n",
    "  double Nevent_ref = 1;\n",
    "\n",
    "  if ( qa_file_new->GetObjectChecked(\n",
    "        prefix + TString(\"pTRecoGenRatio_pTGen\"), \"TH2\")\n",
    "     == nullptr )\n",
    "    {\n",
    "        cout <<\"QAG4SimulationUpsilon is not enabled. Skip....\"<<endl;\n",
    "    }\n",
    "    else\n",
    "    {\n",
    "\n",
    "      TCanvas *c1 = new TCanvas(TString(\"QA_Draw_Tracking_UpsilonOverview\") + TString(\"_\") + hist_name_prefix,\n",
    "                                TString(\"QA_Draw_Tracking_UpsilonOverview\") + TString(\"_\") + hist_name_prefix,\n",
    "                                1800, 1000);\n",
    "      c1->Divide(2, 1);\n",
    "      int idx = 1;\n",
    "      TPad *p;\n",
    "\n",
    "      {\n",
    "        p = (TPad *) c1->cd(idx++);\n",
    "        c1->Update();\n",
    "        p->SetLogy();\n",
    "\n",
    "        TH2 *h_new = (TH2 *) qa_file_new->GetObjectChecked(\n",
    "            prefix + TString(\"pTRecoGenRatio_pTGen\"), \"TH2\");\n",
    "        assert(h_new);\n",
    "\n",
    "        //  h_new->Rebin(1, 2);\n",
    "        //h_new->Sumw2();\n",
    "        //  h_new->Scale(1. / Nevent_new);\n",
    "\n",
    "        TH2 *h_ref = NULL;\n",
    "        if (qa_file_ref)\n",
    "        {\n",
    "          h_ref = (TH2 *) qa_file_ref->GetObjectChecked(\n",
    "              prefix + TString(\"pTRecoGenRatio_pTGen\"), \"TH2\");\n",
    "          assert(h_ref);\n",
    "\n",
    "          //    h_ref->Rebin(1, 2);\n",
    "          //h_ref->Sumw2();\n",
    "          h_ref->Scale(Nevent_new / Nevent_ref);\n",
    "        }\n",
    "\n",
    "        TH1 *h_proj_new = h_new->ProjectionY(\n",
    "            TString::Format(\n",
    "                \"%s_New_ProjX\",\n",
    "                h_new->GetName()));\n",
    "\n",
    "        h_proj_new->GetXaxis()->SetRangeUser(0, 1.3);\n",
    "        h_proj_new->SetTitle(TString(hist_name_prefix) + TString::Format(\n",
    "                                                             \": Electron lineshape\"));\n",
    "        h_proj_new->GetXaxis()->SetTitle(TString::Format(\n",
    "            \"Reco p_{T}/Truth p_{T}\"));\n",
    "\n",
    "        TF1 *f_eLineshape = new TF1(\"f_eLineshape\", CBcalc, 7, 11, 5);\n",
    "        f_eLineshape->SetParameter(0, 1.0);\n",
    "        f_eLineshape->SetParameter(1, 1.0);\n",
    "        f_eLineshape->SetParameter(2, 0.95);\n",
    "        f_eLineshape->SetParameter(3, 0.08);\n",
    "        f_eLineshape->SetParameter(4, 20.0);\n",
    "\n",
    "        f_eLineshape->SetParNames(\"alpha\",\"n\",\"m\",\"sigma\",\"N\");\n",
    "        f_eLineshape->SetLineColor(kRed);\n",
    "        f_eLineshape->SetLineWidth(3);\n",
    "        f_eLineshape->SetLineStyle(kSolid);\n",
    "        f_eLineshape->SetNpx(1000);\n",
    "\n",
    "        h_proj_new->Fit(f_eLineshape);\n",
    "\n",
    "        TH1 *h_proj_ref = nullptr;\n",
    "        if (h_ref)\n",
    "        {\n",
    "          h_proj_ref =\n",
    "              h_ref->ProjectionY(\n",
    "                  TString::Format(\n",
    "                      \"%s_Ref_ProjX\",\n",
    "                      h_new->GetName()));\n",
    "        }\n",
    "        TF1 *f_eLineshape_ref = new TF1(\"f_eLineshape_ref\", CBcalc, 7, 11, 5);\n",
    "        f_eLineshape_ref->SetParameter(0, 1.0);\n",
    "        f_eLineshape_ref->SetParameter(1, 1.0);\n",
    "        f_eLineshape_ref->SetParameter(2, 0.95);\n",
    "        f_eLineshape_ref->SetParameter(3, 0.08);\n",
    "        f_eLineshape_ref->SetParameter(4, 20.0);\n",
    "\n",
    "        f_eLineshape_ref->SetParNames(\"alpha\",\"n\",\"m\",\"sigma\",\"N\");\n",
    "        f_eLineshape_ref->SetLineColor(kRed);\n",
    "        f_eLineshape_ref->SetLineWidth(3);\n",
    "        f_eLineshape_ref->SetLineStyle(kSolid);\n",
    "\n",
    "        h_proj_ref->Fit(f_eLineshape_ref);\n",
    "\n",
    "\n",
    "        DrawReference(h_proj_new, h_proj_ref);\n",
    "        f_eLineshape->Draw(\"same\");\n",
    "\n",
    "        char resstr_1[500];\n",
    "        sprintf(resstr_1,\"#sigma_{dp/p} = %.2f #pm %.2f %%\", f_eLineshape->GetParameter(3)*100, f_eLineshape->GetParError(3)*100);\n",
    "        TLatex *res_1 = new TLatex(0.2,0.75,resstr_1);\n",
    "        res_1->SetNDC();\n",
    "        res_1->SetTextSize(0.05);\n",
    "        res_1->SetTextAlign(13);\n",
    "        res_1->Draw();\n",
    "\n",
    "        char resstr_2[500];\n",
    "        sprintf(resstr_2,\"#sigma_{dp/p,ref} = %.2f #pm %.2f %%\", f_eLineshape_ref->GetParameter(3)*100, f_eLineshape_ref->GetParError(3)*100);\n",
    "        TLatex *res_2 = new TLatex(0.2,0.7,resstr_2);\n",
    "        res_2->SetNDC();\n",
    "        res_2->SetTextSize(0.05);\n",
    "        res_2->SetTextAlign(13);\n",
    "        res_2->Draw();\n",
    "      }\n",
    "\n",
    "      {\n",
    "        p = (TPad *) c1->cd(idx++);\n",
    "        c1->Update();\n",
    "    //    p->SetLogy();\n",
    "\n",
    "        TH1 *h_new = (TH1 *) qa_file_new->GetObjectChecked(\n",
    "            prefix + TString(\"nReco_Pair_InvMassReco\"), \"TH1\");\n",
    "        assert(h_new);\n",
    "\n",
    "        // h_new->Rebin(2);\n",
    "        // h_new->Sumw2();\n",
    "        // h_new->Scale(1. / Nevent_new);\n",
    "\n",
    "        TF1 *f1S = new TF1(\"f1S\", CBcalc2, 7, 11, 7);\n",
    "        f1S->SetParameter(0, 50.0);\n",
    "        f1S->SetParameter(1, 9.46);\n",
    "        f1S->SetParameter(2, 0.08);\n",
    "        f1S->SetParameter(3, 1.0);\n",
    "        f1S->SetParameter(4, 3.0);\n",
    "        f1S->SetParameter(5, 1.0);\n",
    "        f1S->SetParLimits(3, 0.120, 10);\n",
    "        f1S->SetParLimits(4, 1.05, 10);\n",
    "        f1S->SetParameter(6, 3.0);\n",
    "        f1S->SetParLimits(5, 0.120, 10);\n",
    "        f1S->SetParLimits(6, 1.05, 10);\n",
    " \n",
    "        f1S->SetParNames(\"N\", \"m\", \"#sigma\", \"#alpha_{left}\",\"n_{left}\",\"#alpha_{right}\",\"#sigma_{right}\");\n",
    "        f1S->SetLineColor(kRed);\n",
    "        f1S->SetLineWidth(3);\n",
    "        f1S->SetLineStyle(kSolid);\n",
    "        f1S->SetNpx(1000);\n",
    "\n",
    "        h_new->Fit(f1S);\n",
    "\n",
    "        TH1 *h_ref = NULL;\n",
    "        if (qa_file_ref)\n",
    "        {\n",
    "          h_ref = (TH1 *) qa_file_ref->GetObjectChecked(\n",
    "              prefix + TString(\"nReco_Pair_InvMassReco\"), \"TH1\");\n",
    "          assert(h_ref);\n",
    "\n",
    "          // h_ref->Rebin(2);\n",
    "          // h_ref->Sumw2();\n",
    "          // h_ref->Scale(Nevent_new / Nevent_ref);\n",
    "        }\n",
    "\n",
    "        h_new->SetTitle(TString(hist_name_prefix) + TString::Format(\n",
    "                                                        \": #Upsilon #rightarrow e^{+}e^{-} lineshape\"));\n",
    "        h_new->GetXaxis()->SetRangeUser(7, 10);\n",
    "\n",
    "        TF1 *f1S_ref = new TF1(\"f1S_ref\", CBcalc2, 7, 11, 7);\n",
    "        f1S_ref->SetParameter(0, 50.0);\n",
    "        f1S_ref->SetParameter(1, 9.46);\n",
    "        f1S_ref->SetParameter(2, 0.08);\n",
    "        f1S_ref->SetParameter(3, 1.0);\n",
    "        f1S_ref->SetParameter(4, 3.0);\n",
    "        f1S_ref->SetParameter(5, 1.0);\n",
    "        f1S_ref->SetParLimits(3, 0.120, 10);\n",
    "        f1S_ref->SetParLimits(4, 1.05, 10);\n",
    "        f1S_ref->SetParameter(6, 3.0);\n",
    "        f1S_ref->SetParLimits(5, 0.120, 10);\n",
    "        f1S_ref->SetParLimits(6, 1.05, 10);\n",
    " \n",
    "        f1S_ref->SetParNames(\"N\", \"m\", \"#sigma\", \"#alpha_{left}\",\"n_{left}\",\"#alpha_{right}\",\"#sigma_{right}\");\n",
    "        f1S_ref->SetLineColor(kRed);\n",
    "        f1S_ref->SetLineWidth(3);\n",
    "        f1S_ref->SetLineStyle(kSolid);\n",
    "\n",
    "        h_ref->Fit(f1S_ref);\n",
    "\n",
    "        DrawReference(h_new, h_ref, false);\n",
    "        f1S->Draw(\"same\");\n",
    "\n",
    "        // cout << \"f1S pars \" <<  f1S->GetParameter(3) << \"   \" << f1S->GetParError(3) << endl;\n",
    "\n",
    "        char resstr_3[500];\n",
    "        sprintf(resstr_3,\"#sigma_{1S} = %.1f #pm %.1f MeV\", f1S->GetParameter(2)*1000, f1S->GetParError(2)*1000);\n",
    "        TLatex *res_3 = new TLatex(0.2,0.75,resstr_3);\n",
    "        res_3->SetNDC();\n",
    "        res_3->SetTextSize(0.05);\n",
    "        res_3->SetTextAlign(13);\n",
    "        res_3->Draw();\n",
    "\n",
    "        char resstr_4[500];\n",
    "        sprintf(resstr_4,\"#sigma_{1S,ref} = %.1f #pm %.1f MeV\", f1S_ref->GetParameter(2)*1000, f1S_ref->GetParError(2)*1000);\n",
    "        TLatex *res_4 = new TLatex(0.2,0.7,resstr_4);\n",
    "        res_4->SetNDC();\n",
    "        res_4->SetTextSize(0.05);\n",
    "        res_4->SetTextAlign(13);\n",
    "        res_4->Draw();\n",
    "      }\n",
    "\n",
    "      // SaveCanvas(c1, TString(qa_file_name_new) + TString(\"_\") + TString(c1->GetName()), true);\n",
    "\n",
    "      c1 -> Draw();\n",
    "    }// if checks\n",
    "}"
   ]
  },
  {
   "cell_type": "markdown",
   "metadata": {},
   "source": [
    "# Summary statistics"
   ]
  },
  {
   "cell_type": "code",
   "execution_count": 20,
   "metadata": {
    "execution": {
     "iopub.execute_input": "2021-04-14T19:15:25.648976Z",
     "iopub.status.busy": "2021-04-14T19:15:25.648031Z",
     "iopub.status.idle": "2021-04-14T19:15:25.753915Z",
     "shell.execute_reply": "2021-04-14T19:15:25.755015Z"
    }
   },
   "outputs": [
    {
     "name": "stdout",
     "output_type": "stream",
     "text": [
      "This notebook contains 11 KSTets: combined Chi2/nDoF = 178.783 / 22, and combined __p-Value = 1.5199e-26__\n"
     ]
    }
   ],
   "source": [
    "%%cpp\n",
    "\n",
    "KSTestSummary::getInstance()->make_summary_txt(\"QA-tracking.txt\");"
   ]
  },
  {
   "cell_type": "code",
   "execution_count": 21,
   "metadata": {
    "execution": {
     "iopub.execute_input": "2021-04-14T19:15:25.781594Z",
     "iopub.status.busy": "2021-04-14T19:15:25.780983Z",
     "iopub.status.idle": "2021-04-14T19:15:25.977950Z",
     "shell.execute_reply": "2021-04-14T19:15:25.977433Z"
    }
   },
   "outputs": [
    {
     "data": {
      "image/png": "[encoded data removed]",
      "text/plain": [
       "<IPython.core.display.Image object>"
      ]
     },
     "metadata": {},
     "output_type": "display_data"
    }
   ],
   "source": [
    "%%cpp\n",
    "\n",
    "KSTestSummary::getInstance()->make_summary_TCanvas() -> Draw();"
   ]
  },
  {
   "cell_type": "code",
   "execution_count": null,
   "metadata": {},
   "outputs": [],
   "source": []
  }
 ],
 "metadata": {
  "kernelspec": {
   "display_name": "Python (sPHENIX)",
   "language": "python",
   "name": "sphenix-env"
  },
  "language_info": {
   "codemirror_mode": {
    "name": "ipython",
    "version": 3
   },
   "file_extension": ".py",
   "mimetype": "text/x-python",
   "name": "python",
   "nbconvert_exporter": "python",
   "pygments_lexer": "ipython3",
   "version": "3.8.0"
  }
 },
 "nbformat": 4,
 "nbformat_minor": 4
}
