{
 "cells": [
  {
   "cell_type": "markdown",
   "metadata": {},
   "source": [
    "# Introduction\n",
    "\n",
    "QA plots for the single particle in calorimeters and reconstructed as calorimetric jet objects"
   ]
  },
  {
   "cell_type": "code",
   "execution_count": 1,
   "metadata": {
    "execution": {
     "iopub.execute_input": "2021-10-19T04:32:14.933689Z",
     "iopub.status.busy": "2021-10-19T04:32:14.932314Z",
     "iopub.status.idle": "2021-10-19T04:32:14.937714Z",
     "shell.execute_reply": "2021-10-19T04:32:14.936482Z"
    }
   },
   "outputs": [],
   "source": [
    "# imports to write dynamic markdown contents\n",
    "import os\n",
    "from IPython.display import display, Markdown, Latex\n",
    "from IPython.display import HTML"
   ]
  },
  {
   "cell_type": "code",
   "execution_count": 2,
   "metadata": {
    "execution": {
     "iopub.execute_input": "2021-10-19T04:32:14.954826Z",
     "iopub.status.busy": "2021-10-19T04:32:14.953544Z",
     "iopub.status.idle": "2021-10-19T04:32:14.965246Z",
     "shell.execute_reply": "2021-10-19T04:32:14.964770Z"
    }
   },
   "outputs": [
    {
     "data": {
      "text/markdown": [
       "*For the result HTML page:* "
      ],
      "text/plain": [
       "<IPython.core.display.Markdown object>"
      ]
     },
     "metadata": {},
     "output_type": "display_data"
    },
    {
     "data": {
      "text/html": [
       "<script>\n",
       "code_show=true; \n",
       "function code_toggle() {\n",
       " if (code_show){\n",
       " $('div.input').hide();\n",
       " } else {\n",
       " $('div.input').show();\n",
       " }\n",
       " code_show = !code_show\n",
       "} \n",
       "$( document ).ready(code_toggle);\n",
       "</script>\n",
       "<form action=\"javascript:code_toggle()\"><input type=\"submit\" value=\"Click here to toggle on/off the raw code.\"></form>"
      ],
      "text/plain": [
       "<IPython.core.display.HTML object>"
      ]
     },
     "execution_count": 2,
     "metadata": {},
     "output_type": "execute_result"
    }
   ],
   "source": [
    "# turn off/on code for the result HTML page\n",
    "\n",
    "display(Markdown('*For the result HTML page:* '))\n",
    "    \n",
    "HTML('''<script>\n",
    "code_show=true; \n",
    "function code_toggle() {\n",
    " if (code_show){\n",
    " $('div.input').hide();\n",
    " } else {\n",
    " $('div.input').show();\n",
    " }\n",
    " code_show = !code_show\n",
    "} \n",
    "$( document ).ready(code_toggle);\n",
    "</script>\n",
    "<form action=\"javascript:code_toggle()\"><input type=\"submit\" value=\"Click here to toggle on/off the raw code.\"></form>''')"
   ]
  },
  {
   "cell_type": "code",
   "execution_count": 3,
   "metadata": {
    "execution": {
     "iopub.execute_input": "2021-10-19T04:32:14.970977Z",
     "iopub.status.busy": "2021-10-19T04:32:14.970433Z",
     "iopub.status.idle": "2021-10-19T04:32:19.083287Z",
     "shell.execute_reply": "2021-10-19T04:32:19.083753Z"
    }
   },
   "outputs": [
    {
     "data": {
      "text/markdown": [
       "pyROOT env check:"
      ],
      "text/plain": [
       "<IPython.core.display.Markdown object>"
      ]
     },
     "metadata": {},
     "output_type": "display_data"
    },
    {
     "name": "stdout",
     "output_type": "stream",
     "text": [
      "Welcome to JupyROOT 6.22/02\n"
     ]
    },
    {
     "data": {
      "text/markdown": [
       "via sPHENIX software distribution at `/var/lib/jenkins/workspace/sPHENIX/Build-Master-gcc8/build/new/install.1`"
      ],
      "text/plain": [
       "<IPython.core.display.Markdown object>"
      ]
     },
     "metadata": {},
     "output_type": "display_data"
    }
   ],
   "source": [
    "# initialization\n",
    "\n",
    "display(Markdown('pyROOT env check:'))\n",
    "\n",
    "import ROOT\n",
    "\n",
    "OFFLINE_MAIN = os.getenv(\"OFFLINE_MAIN\")\n",
    "if OFFLINE_MAIN is not None:\n",
    "    display(Markdown(f\"via sPHENIX software distribution at `{OFFLINE_MAIN}`\"))"
   ]
  },
  {
   "cell_type": "code",
   "execution_count": 4,
   "metadata": {
    "execution": {
     "iopub.execute_input": "2021-10-19T04:32:19.094783Z",
     "iopub.status.busy": "2021-10-19T04:32:19.094215Z",
     "iopub.status.idle": "2021-10-19T04:32:19.222331Z",
     "shell.execute_reply": "2021-10-19T04:32:19.222787Z"
    }
   },
   "outputs": [
    {
     "data": {
      "text/markdown": [
       "View the source code repository at https://github.com/sPHENIX-Collaboration/QA-gallery.git"
      ],
      "text/plain": [
       "<IPython.core.display.Markdown object>"
      ]
     },
     "metadata": {},
     "output_type": "display_data"
    }
   ],
   "source": [
    "import subprocess\n",
    "\n",
    "try:\n",
    "    git_url = \\\n",
    "        subprocess.run(['git','remote','get-url','origin'], stdout=subprocess.PIPE)\\\n",
    "        .stdout.decode('utf-8').strip()\\\n",
    "        .replace('git@github.com:','https://github.com/')\n",
    "\n",
    "    display(Markdown(f\"View the source code repository at {git_url}\"))\n",
    "except: # catch *all* exceptions\n",
    "    #     well do nothing\n",
    "    pass\n"
   ]
  },
  {
   "cell_type": "code",
   "execution_count": 5,
   "metadata": {
    "execution": {
     "iopub.execute_input": "2021-10-19T04:32:19.240601Z",
     "iopub.status.busy": "2021-10-19T04:32:19.239997Z",
     "iopub.status.idle": "2021-10-19T04:32:19.353720Z",
     "shell.execute_reply": "2021-10-19T04:32:19.353250Z"
    }
   },
   "outputs": [
    {
     "data": {
      "text/markdown": [
       "Some further details about the QA run, if executed under the Jenkins CI:"
      ],
      "text/plain": [
       "<IPython.core.display.Markdown object>"
      ]
     },
     "metadata": {},
     "output_type": "display_data"
    },
    {
     "data": {
      "text/markdown": [
       "* The commit being checked is sPHENIX-Collaboration/coresoftware/46236b6693195244f17f3a5497eee79cd99b4aff"
      ],
      "text/plain": [
       "<IPython.core.display.Markdown object>"
      ]
     },
     "metadata": {},
     "output_type": "display_data"
    },
    {
     "data": {
      "text/markdown": [
       "* Link to the pull request: https://github.com/sPHENIX-Collaboration/coresoftware/pull/1321"
      ],
      "text/plain": [
       "<IPython.core.display.Markdown object>"
      ]
     },
     "metadata": {},
     "output_type": "display_data"
    },
    {
     "data": {
      "text/markdown": [
       "* Link to the build: https://web.sdcc.bnl.gov/jenkins-sphenix/job/sPHENIX/job/test-calo-single-qa/2598/"
      ],
      "text/plain": [
       "<IPython.core.display.Markdown object>"
      ]
     },
     "metadata": {},
     "output_type": "display_data"
    },
    {
     "data": {
      "text/markdown": [
       "* Download the QA ROOT files: https://web.sdcc.bnl.gov/jenkins-sphenix/job/sPHENIX/job/test-calo-single-qa/2598/display/redirect?page=artifacts"
      ],
      "text/plain": [
       "<IPython.core.display.Markdown object>"
      ]
     },
     "metadata": {},
     "output_type": "display_data"
    },
    {
     "data": {
      "text/markdown": [
       "Automatically generated by [sPHENIX Jenkins continuous integration](https://web.sdcc.bnl.gov/jenkins-sphenix/) [![sPHENIX](https://raw.githubusercontent.com/sPHENIX-Collaboration/utilities/master/jenkins/material/sphenix-logo-white-bg-72p.png)](https://www.sphenix.bnl.gov/web/) &nbsp; &nbsp; &nbsp; &nbsp; &nbsp; &nbsp; [![jenkins.io](https://raw.githubusercontent.com/sPHENIX-Collaboration/utilities/master/jenkins/material/jenkins_logo_title-72p.png)](https://jenkins.io/)"
      ],
      "text/plain": [
       "<IPython.core.display.Markdown object>"
      ]
     },
     "metadata": {},
     "output_type": "display_data"
    }
   ],
   "source": [
    "display(Markdown('Some further details about the QA run, if executed under the Jenkins CI:'))\n",
    "\n",
    "checkrun_repo_commit = os.getenv(\"checkrun_repo_commit\")\n",
    "if checkrun_repo_commit is not None:\n",
    "    display(Markdown(f\"* The commit being checked is {checkrun_repo_commit}\"))\n",
    "        \n",
    "ghprbPullLink = os.getenv(\"ghprbPullLink\")\n",
    "if ghprbPullLink is not None:\n",
    "    display(Markdown(f\"* Link to the pull request: {ghprbPullLink}\"))\n",
    "\n",
    "BUILD_URL =  os.getenv(\"BUILD_URL\")\n",
    "if BUILD_URL is not None:\n",
    "    display(Markdown(f\"* Link to the build: {BUILD_URL}\"))\n",
    "\n",
    "RUN_ARTIFACTS_DISPLAY_URL = os.getenv(\"RUN_ARTIFACTS_DISPLAY_URL\")\n",
    "if RUN_ARTIFACTS_DISPLAY_URL is not None:\n",
    "    display(Markdown(f\"* Download the QA ROOT files: {RUN_ARTIFACTS_DISPLAY_URL}\"))\n",
    "\n",
    "JENKINS_URL  = os.getenv(\"JENKINS_URL\")\n",
    "if JENKINS_URL is not None:\n",
    "    display(Markdown(f\"Automatically generated by [sPHENIX Jenkins continuous integration]({JENKINS_URL}) [![sPHENIX](https://raw.githubusercontent.com/sPHENIX-Collaboration/utilities/master/jenkins/material/sphenix-logo-white-bg-72p.png)](https://www.sphenix.bnl.gov/web/) &nbsp; &nbsp; &nbsp; &nbsp; &nbsp; &nbsp; [![jenkins.io](https://raw.githubusercontent.com/sPHENIX-Collaboration/utilities/master/jenkins/material/jenkins_logo_title-72p.png)](https://jenkins.io/)\"))"
   ]
  },
  {
   "cell_type": "markdown",
   "metadata": {},
   "source": [
    "\n",
    "# Initialization"
   ]
  },
  {
   "cell_type": "code",
   "execution_count": 6,
   "metadata": {
    "execution": {
     "iopub.execute_input": "2021-10-19T04:32:19.729577Z",
     "iopub.status.busy": "2021-10-19T04:32:19.728399Z",
     "iopub.status.idle": "2021-10-19T04:32:19.831967Z",
     "shell.execute_reply": "2021-10-19T04:32:19.831393Z"
    },
    "scrolled": true
   },
   "outputs": [],
   "source": [
    "%%cpp -d\n",
    "\n",
    "#include \"QA_Draw_Utility.C\"\n",
    "\n",
    "#include <sPhenixStyle.C>\n",
    "\n",
    "#include <TFile.h>\n",
    "#include <TLine.h>\n",
    "#include <TString.h>\n",
    "#include <TTree.h>\n",
    "#include <cassert>\n",
    "#include <cmath>"
   ]
  },
  {
   "cell_type": "code",
   "execution_count": 7,
   "metadata": {
    "execution": {
     "iopub.execute_input": "2021-10-19T04:32:20.909786Z",
     "iopub.status.busy": "2021-10-19T04:32:20.908441Z",
     "iopub.status.idle": "2021-10-19T04:32:21.011959Z",
     "shell.execute_reply": "2021-10-19T04:32:21.012392Z"
    }
   },
   "outputs": [
    {
     "name": "stdout",
     "output_type": "stream",
     "text": [
      "sPhenixStyle: Applying nominal settings.\n",
      "sPhenixStyle: ROOT6 mode\n"
     ]
    }
   ],
   "source": [
    "%%cpp\n",
    "\n",
    "SetsPhenixStyle();\n",
    "TVirtualFitter::SetDefaultFitter(\"Minuit2\");\n",
    "\n",
    "// test sPHENIX lib load\n",
    "// gSystem->Load(\"libg4eval.so\");\n",
    "\n",
    "// test libs\n",
    "// gSystem->ListLibraries();"
   ]
  },
  {
   "cell_type": "markdown",
   "metadata": {},
   "source": [
    "## Inputs and file checks"
   ]
  },
  {
   "cell_type": "code",
   "execution_count": 8,
   "metadata": {
    "execution": {
     "iopub.execute_input": "2021-10-19T04:32:21.021430Z",
     "iopub.status.busy": "2021-10-19T04:32:21.020363Z",
     "iopub.status.idle": "2021-10-19T04:32:21.125858Z",
     "shell.execute_reply": "2021-10-19T04:32:21.124559Z"
    }
   },
   "outputs": [],
   "source": [
    "\n",
    "qa_file_name_new = os.getenv(\"qa_file_name_new\")\n",
    "if qa_file_name_new is None:\n",
    "    qa_file_name_new = \"G4sPHENIX_pi+_pT30_Sum15_qa.root\"\n",
    "    display(Markdown(f\"`qa_file_name_new` env not set. use the default `qa_file_name_new={qa_file_name_new}`\"))\n",
    "\n",
    "qa_file_name_ref = os.getenv(\"qa_file_name_ref\")\n",
    "if qa_file_name_ref is None:\n",
    "    qa_file_name_ref = \"reference/G4sPHENIX_pi+_pT30_Sum15_qa.root\"\n",
    "    display(Markdown(f\"`qa_file_name_ref` env not set. use the default `qa_file_name_ref={qa_file_name_ref}`\"))\n",
    "elif qa_file_name_ref == 'None':\n",
    "    qa_file_name_ref = None\n",
    "    display(Markdown(f\"`qa_file_name_ref` = None and we are set to not to use the reference histograms\"))\n",
    "    \n"
   ]
  },
  {
   "cell_type": "code",
   "execution_count": 9,
   "metadata": {
    "execution": {
     "iopub.execute_input": "2021-10-19T04:32:21.135758Z",
     "iopub.status.busy": "2021-10-19T04:32:21.134366Z",
     "iopub.status.idle": "2021-10-19T04:32:21.312765Z",
     "shell.execute_reply": "2021-10-19T04:32:21.311815Z"
    }
   },
   "outputs": [
    {
     "data": {
      "text/markdown": [
       "Openning QA file at `G4sPHENIX_pi+_pT30_Sum8_qa.root`"
      ],
      "text/plain": [
       "<IPython.core.display.Markdown object>"
      ]
     },
     "metadata": {},
     "output_type": "display_data"
    },
    {
     "data": {
      "text/markdown": [
       "Openning QA reference file at `reference/G4sPHENIX_pi+_pT30_Sum8_qa.root`"
      ],
      "text/plain": [
       "<IPython.core.display.Markdown object>"
      ]
     },
     "metadata": {},
     "output_type": "display_data"
    }
   ],
   "source": [
    "# qa_file_new = ROOT.TFile.Open(qa_file_name_new);\n",
    "\n",
    "# assert qa_file_new.IsOpen()\n",
    "# qa_file_new.ls()\n",
    "display(Markdown(f\"Openning QA file at `{qa_file_name_new}`\"))\n",
    "ROOT.gInterpreter.ProcessLine(f\"TFile *qa_file_new = new TFile(\\\"{qa_file_name_new}\\\");\")\n",
    "ROOT.gInterpreter.ProcessLine(f\"const char * qa_file_name_new = \\\"{qa_file_name_new}\\\";\")\n",
    "\n",
    "if qa_file_name_ref is not None:\n",
    "#     qa_file_ref = ROOT.TFile.Open(qa_file_name_ref);\n",
    "\n",
    "#     assert qa_file_ref.IsOpen()\n",
    "    display(Markdown(f\"Openning QA reference file at `{qa_file_name_ref}`\"))\n",
    "    ROOT.gInterpreter.ProcessLine(f\"TFile *qa_file_ref = new TFile(\\\"{qa_file_name_ref}\\\");\")\n",
    "    ROOT.gInterpreter.ProcessLine(f\"const char *  qa_file_name_ref = \\\"{qa_file_name_ref}\\\";\")\n",
    "else:\n",
    "    ROOT.gInterpreter.ProcessLine(f\"TFile *qa_file_ref = nullptr;\")\n",
    "    ROOT.gInterpreter.ProcessLine(f\"const char *  qa_file_name_ref = nullptr;\")\n"
   ]
  },
  {
   "cell_type": "code",
   "execution_count": 10,
   "metadata": {
    "execution": {
     "iopub.execute_input": "2021-10-19T04:32:21.333150Z",
     "iopub.status.busy": "2021-10-19T04:32:21.332277Z",
     "iopub.status.idle": "2021-10-19T04:32:21.435993Z",
     "shell.execute_reply": "2021-10-19T04:32:21.436813Z"
    },
    "scrolled": true
   },
   "outputs": [],
   "source": [
    "%%cpp\n",
    "\n",
    "if (qa_file_new == nullptr) \n",
    "{\n",
    "    cout <<\"Error, can not open QA root file\"<<qa_file_name_new<<endl;\n",
    "    exit(1);\n",
    "}\n",
    "\n",
    "// list inputs histograms if needed\n",
    "// qa_file_new ->ls();\n",
    "\n",
    "//TFile *qa_file_ref = NULL;\n",
    "//if (qa_file_name_ref)\n",
    "//{\n",
    "//    qa_file_ref = new TFile(qa_file_name_ref);\n",
    "//  \n",
    "//    if (qa_file_ref == nullptr) \n",
    "//    {\n",
    "//        cout <<\"Error, can not open QA root file\"<<qa_file_name_ref<<endl;\n",
    "//        exit(1);\n",
    "//    }\n",
    "//}"
   ]
  },
  {
   "cell_type": "code",
   "execution_count": 11,
   "metadata": {
    "execution": {
     "iopub.execute_input": "2021-10-19T04:32:21.573800Z",
     "iopub.status.busy": "2021-10-19T04:32:21.572195Z",
     "iopub.status.idle": "2021-10-19T04:32:21.677008Z",
     "shell.execute_reply": "2021-10-19T04:32:21.675735Z"
    }
   },
   "outputs": [],
   "source": [
    "%%cpp -d\n",
    "\n",
    "// Jet utility functions\n",
    "\n",
    "\n",
    "void QA_Draw_Jet_Spectrum(\n",
    "    const char *jet = \"h_QAG4SimJet_AntiKt_Truth_r07\")\n",
    "{\n",
    "\n",
    "  // obtain normalization\n",
    "  double Nevent_new = 1;\n",
    "  double Nevent_ref = 1;\n",
    "\n",
    "  if (qa_file_new)\n",
    "  {\n",
    "    TH1D *h_norm = (TH1D *) qa_file_new->GetObjectChecked(\n",
    "        TString(jet) + TString(\"_Normalization\"), \"TH1D\");\n",
    "    assert(h_norm);\n",
    "\n",
    "    Nevent_new = h_norm->GetBinContent(h_norm->GetXaxis()->FindBin(\"Event\"));\n",
    "  }\n",
    "  if (qa_file_ref)\n",
    "  {\n",
    "    TH1D *h_norm = (TH1D *) qa_file_ref->GetObjectChecked(\n",
    "        TString(jet) + TString(\"_Normalization\"), \"TH1D\");\n",
    "    assert(h_norm);\n",
    "\n",
    "    Nevent_ref = h_norm->GetBinContent(h_norm->GetXaxis()->FindBin(\"Event\"));\n",
    "  }\n",
    "\n",
    "  TCanvas *c1 = new TCanvas(TString(\"QA_Draw_Jet_Spectrum_\") + TString(jet),\n",
    "                            TString(\"QA_Draw_Jet_Spectrum_\") + TString(jet), 1800, 1000);\n",
    "  c1->Divide(4, 2);\n",
    "  int idx = 1;\n",
    "  TPad *p;\n",
    "\n",
    "  p = (TPad *) c1->cd(idx++);\n",
    "  c1->Update();\n",
    "  p->SetLogy();\n",
    "\n",
    "  {\n",
    "    TH1F *h_new = (TH1F *) qa_file_new->GetObjectChecked(\n",
    "        TString(jet) + TString(\"_Leading_eta\"), \"TH1F\");\n",
    "    assert(h_new);\n",
    "\n",
    "    h_new->Rebin(2);\n",
    "    // h_new->Sumw2();\n",
    "    h_new->Scale(1. / Nevent_new);\n",
    "\n",
    "    TH1F *h_ref = NULL;\n",
    "    if (qa_file_ref)\n",
    "    {\n",
    "      h_ref = (TH1F *) qa_file_ref->GetObjectChecked(\n",
    "          TString(jet) + TString(\"_Leading_eta\"), \"TH1F\");\n",
    "      assert(h_ref);\n",
    "\n",
    "      h_ref->Rebin(2);\n",
    "      h_ref->Scale(1. / Nevent_ref);\n",
    "    }\n",
    "\n",
    "    h_new->GetYaxis()->SetTitleOffset(1.5);\n",
    "    h_new->GetYaxis()->SetTitle(\"Count / event / bin\");\n",
    "    //      h_new->GetXaxis()->SetRangeUser(-0, .1);\n",
    "\n",
    "    DrawReference(h_new, h_ref);\n",
    "  }\n",
    "\n",
    "  p = (TPad *) c1->cd(idx++);\n",
    "  c1->Update();\n",
    "  p->SetLogy();\n",
    "\n",
    "  {\n",
    "    TH1F *h_new = (TH1F *) qa_file_new->GetObjectChecked(\n",
    "        TString(jet) + TString(\"_Leading_phi\"), \"TH1F\");\n",
    "    assert(h_new);\n",
    "\n",
    "    h_new->Rebin(2);\n",
    "    // h_new->Sumw2();\n",
    "    h_new->Scale(1. / Nevent_new);\n",
    "\n",
    "    TH1F *h_ref = NULL;\n",
    "    if (qa_file_ref)\n",
    "    {\n",
    "      h_ref = (TH1F *) qa_file_ref->GetObjectChecked(\n",
    "          TString(jet) + TString(\"_Leading_phi\"), \"TH1F\");\n",
    "      assert(h_ref);\n",
    "\n",
    "      h_ref->Rebin(2);\n",
    "      h_ref->Scale(1. / Nevent_ref);\n",
    "    }\n",
    "\n",
    "    h_new->GetYaxis()->SetTitleOffset(1.5);\n",
    "    h_new->GetYaxis()->SetTitle(\"Count / event / bin\");\n",
    "    //      h_new->GetXaxis()->SetRangeUser(-0, .1);\n",
    "\n",
    "    DrawReference(h_new, h_ref);\n",
    "  }\n",
    "\n",
    "  p = (TPad *) c1->cd(idx++);\n",
    "  c1->Update();\n",
    "  p->SetLogy();\n",
    "\n",
    "  {\n",
    "    TH1F *h_new = (TH1F *) qa_file_new->GetObjectChecked(\n",
    "        TString(jet) + TString(\"_Leading_Et\"), \"TH1F\");\n",
    "    assert(h_new);\n",
    "\n",
    "    // h_new->Sumw2();\n",
    "    h_new->Scale(1. / Nevent_new);\n",
    "\n",
    "    TH1F *h_ref = NULL;\n",
    "    if (qa_file_ref)\n",
    "    {\n",
    "      h_ref = (TH1F *) qa_file_ref->GetObjectChecked(\n",
    "          TString(jet) + TString(\"_Leading_Et\"), \"TH1F\");\n",
    "      assert(h_ref);\n",
    "\n",
    "      h_ref->Scale(1. / Nevent_ref);\n",
    "    }\n",
    "\n",
    "    h_new->GetYaxis()->SetTitleOffset(1.5);\n",
    "    h_new->GetYaxis()->SetTitle(\"Count / event / bin\");\n",
    "    //      h_new->GetXaxis()->SetRangeUser(-0, .1);\n",
    "\n",
    "    DrawReference(h_new, h_ref);\n",
    "  }\n",
    "\n",
    "  p = (TPad *) c1->cd(idx++);\n",
    "  c1->Update();\n",
    "  p->SetLogy();\n",
    "\n",
    "  {\n",
    "    TH1F *h_new = (TH1F *) qa_file_new->GetObjectChecked(\n",
    "        TString(jet) + TString(\"_Leading_Mass\"), \"TH1F\");\n",
    "    assert(h_new);\n",
    "\n",
    "    h_new->Rebin(2);\n",
    "    // h_new->Sumw2();\n",
    "    h_new->Scale(1. / Nevent_new);\n",
    "\n",
    "    TH1F *h_ref = NULL;\n",
    "    if (qa_file_ref)\n",
    "    {\n",
    "      h_ref = (TH1F *) qa_file_ref->GetObjectChecked(\n",
    "          TString(jet) + TString(\"_Leading_Mass\"), \"TH1F\");\n",
    "      assert(h_ref);\n",
    "\n",
    "      h_ref->Rebin(2);\n",
    "      h_ref->Scale(1. / Nevent_ref);\n",
    "    }\n",
    "\n",
    "    h_new->GetYaxis()->SetTitleOffset(1.5);\n",
    "    h_new->GetYaxis()->SetTitle(\"Count / event / bin\");\n",
    "    //      h_new->GetXaxis()->SetRangeUser(-0, .1);\n",
    "\n",
    "    DrawReference(h_new, h_ref);\n",
    "  }\n",
    "\n",
    "  p = (TPad *) c1->cd(idx++);\n",
    "  c1->Update();\n",
    "  p->SetLogx();\n",
    "\n",
    "  {\n",
    "    TH1F *h_new = (TH1F *) qa_file_new->GetObjectChecked(\n",
    "        TString(jet) + TString(\"_Leading_CompSize\"), \"TH1F\");\n",
    "    assert(h_new);\n",
    "\n",
    "    h_new->Rebin(2);\n",
    "    // h_new->Sumw2();\n",
    "    h_new->Scale(1. / Nevent_new);\n",
    "\n",
    "    TH1F *h_ref = NULL;\n",
    "    if (qa_file_ref)\n",
    "    {\n",
    "      h_ref = (TH1F *) qa_file_ref->GetObjectChecked(\n",
    "          TString(jet) + TString(\"_Leading_CompSize\"), \"TH1F\");\n",
    "      assert(h_ref);\n",
    "\n",
    "      h_ref->Rebin(2);\n",
    "      h_ref->Scale(1. / Nevent_ref);\n",
    "    }\n",
    "\n",
    "    h_new->GetYaxis()->SetTitleOffset(1.5);\n",
    "    h_new->GetYaxis()->SetTitle(\"Count / event / bin\");\n",
    "    //      h_new->GetXaxis()->SetRangeUser(-0, .1);\n",
    "\n",
    "    DrawReference(h_new, h_ref);\n",
    "  }\n",
    "\n",
    "  p = (TPad *) c1->cd(idx++);\n",
    "  c1->Update();\n",
    "  p->SetLogy();\n",
    "\n",
    "  {\n",
    "    TH1F *h_new = (TH1F *) qa_file_new->GetObjectChecked(\n",
    "        TString(jet) + TString(\"_Leading_CEMC_Ratio\"), \"TH1F\");\n",
    "    assert(h_new);\n",
    "\n",
    "    h_new->Rebin(2);\n",
    "    // h_new->Sumw2();\n",
    "    h_new->Scale(1. / Nevent_new);\n",
    "\n",
    "    TH1F *h_ref = NULL;\n",
    "    if (qa_file_ref)\n",
    "    {\n",
    "      h_ref = (TH1F *) qa_file_ref->GetObjectChecked(\n",
    "          TString(jet) + TString(\"_Leading_CEMC_Ratio\"), \"TH1F\");\n",
    "      assert(h_ref);\n",
    "\n",
    "      h_ref->Rebin(2);\n",
    "      h_ref->Scale(1. / Nevent_ref);\n",
    "    }\n",
    "\n",
    "    h_new->GetYaxis()->SetTitleOffset(1.5);\n",
    "    h_new->GetYaxis()->SetTitle(\"Count / event / bin\");\n",
    "    //      h_new->GetXaxis()->SetRangeUser(-0, .1);\n",
    "\n",
    "    DrawReference(h_new, h_ref);\n",
    "  }\n",
    "\n",
    "  p = (TPad *) c1->cd(idx++);\n",
    "  c1->Update();\n",
    "  p->SetLogy();\n",
    "\n",
    "  {\n",
    "    TH1F *h_new = (TH1F *) qa_file_new->GetObjectChecked(\n",
    "        TString(jet) + TString(\"_Leading_CEMC_HCalIN_Ratio\"), \"TH1F\");\n",
    "    assert(h_new);\n",
    "\n",
    "    h_new->Rebin(2);\n",
    "    // h_new->Sumw2();\n",
    "    h_new->Scale(1. / Nevent_new);\n",
    "\n",
    "    TH1F *h_ref = NULL;\n",
    "    if (qa_file_ref)\n",
    "    {\n",
    "      h_ref = (TH1F *) qa_file_ref->GetObjectChecked(\n",
    "          TString(jet) + TString(\"_Leading_CEMC_HCalIN_Ratio\"), \"TH1F\");\n",
    "      assert(h_ref);\n",
    "\n",
    "      h_ref->Rebin(2);\n",
    "      h_ref->Scale(1. / Nevent_ref);\n",
    "    }\n",
    "\n",
    "    h_new->GetYaxis()->SetTitleOffset(1.5);\n",
    "    h_new->GetYaxis()->SetTitle(\"Count / event / bin\");\n",
    "    //      h_new->GetXaxis()->SetRangeUser(-0, .1);\n",
    "\n",
    "    DrawReference(h_new, h_ref);\n",
    "  }\n",
    "\n",
    "  if (TString(jet).Contains(\"Truth\"))\n",
    "  {\n",
    "    // truth jets\n",
    "\n",
    "    p = (TPad *) c1->cd(idx++);\n",
    "    c1->Update();\n",
    "    p->SetLogy();\n",
    "\n",
    "    {\n",
    "      TH1F *h_new = (TH1F *) qa_file_new->GetObjectChecked(\n",
    "          TString(jet) + TString(\"_Leading_Leakage_Ratio\"), \"TH1F\");\n",
    "      assert(h_new);\n",
    "\n",
    "      h_new->Rebin(2);\n",
    "      // h_new->Sumw2();\n",
    "      h_new->Scale(1. / Nevent_new);\n",
    "\n",
    "      TH1F *h_ref = NULL;\n",
    "      if (qa_file_ref)\n",
    "      {\n",
    "        h_ref = (TH1F *) qa_file_ref->GetObjectChecked(\n",
    "            TString(jet) + TString(\"_Leading_Leakage_Ratio\"), \"TH1F\");\n",
    "        assert(h_ref);\n",
    "\n",
    "        h_ref->Rebin(2);\n",
    "        h_ref->Scale(1. / Nevent_ref);\n",
    "      }\n",
    "\n",
    "      h_new->GetYaxis()->SetTitleOffset(1.5);\n",
    "      h_new->GetYaxis()->SetTitle(\"Count / event / bin\");\n",
    "      //      h_new->GetXaxis()->SetRangeUser(-0, .1);\n",
    "\n",
    "      DrawReference(h_new, h_ref);\n",
    "    }\n",
    "  }\n",
    "\n",
    "//  PutInputFileName(c1, .04, qa_file_name_new, qa_file_name_ref);\n",
    "    c1->Draw();\n",
    "    \n",
    "    //  SaveCanvas(c1, TString(qa_file_name_new) + TString(c1->GetName()), false);\n",
    "    \n",
    "}\n"
   ]
  },
  {
   "cell_type": "markdown",
   "metadata": {},
   "source": [
    "# $R=0.7$ Jets spectrums\n",
    "\n",
    "Check the particular set of jets with $R=0.7$ parameters"
   ]
  },
  {
   "cell_type": "markdown",
   "metadata": {},
   "source": [
    "## Truth jet spectrum\n",
    "\n",
    "Jet the details of the truth jet. Since only one particle is used in this simulation, the number of component is 1 and jet mass is 0."
   ]
  },
  {
   "cell_type": "code",
   "execution_count": 12,
   "metadata": {
    "execution": {
     "iopub.execute_input": "2021-10-19T04:32:21.808986Z",
     "iopub.status.busy": "2021-10-19T04:32:21.807668Z",
     "iopub.status.idle": "2021-10-19T04:32:22.189343Z",
     "shell.execute_reply": "2021-10-19T04:32:22.190066Z"
    }
   },
   "outputs": [
    {
     "name": "stdout",
     "output_type": "stream",
     "text": [
      "KSTestSummary::PushKSTest - Warning - received pValue = 0. Reset to an arbitary small non-zero value (e^(-15))\n",
      "KSTestSummary::PushKSTest - Warning - received pValue = 0. Reset to an arbitary small non-zero value (e^(-15))\n",
      "KSTestSummary::PushKSTest - Warning - received pValue = 0. Reset to an arbitary small non-zero value (e^(-15))\n",
      "KSTestSummary::PushKSTest - Warning - received pValue = 0. Reset to an arbitary small non-zero value (e^(-15))\n",
      "KSTestSummary::PushKSTest - Warning - received pValue = 0. Reset to an arbitary small non-zero value (e^(-15))\n",
      "KSTestSummary::PushKSTest - Warning - received pValue = 0. Reset to an arbitary small non-zero value (e^(-15))\n",
      "KSTestSummary::PushKSTest - Warning - received pValue = 0. Reset to an arbitary small non-zero value (e^(-15))\n",
      "KSTestSummary::PushKSTest - Warning - received pValue = 0. Reset to an arbitary small non-zero value (e^(-15))\n"
     ]
    },
    {
     "data": {
      "image/png": "[encoded data removed]",
      "text/plain": [
       "<IPython.core.display.Image object>"
      ]
     },
     "metadata": {},
     "output_type": "display_data"
    }
   ],
   "source": [
    "%%cpp\n",
    "\n",
    "QA_Draw_Jet_Spectrum(\"h_QAG4SimJet_AntiKt_Truth_r07\");\n"
   ]
  },
  {
   "cell_type": "markdown",
   "metadata": {},
   "source": [
    "## Reco tower jet spectrum\n",
    "\n",
    "Jet the details of the reco tower jet in response to this single particle"
   ]
  },
  {
   "cell_type": "code",
   "execution_count": 13,
   "metadata": {
    "execution": {
     "iopub.execute_input": "2021-10-19T04:32:22.205410Z",
     "iopub.status.busy": "2021-10-19T04:32:22.204893Z",
     "iopub.status.idle": "2021-10-19T04:32:22.423100Z",
     "shell.execute_reply": "2021-10-19T04:32:22.423532Z"
    }
   },
   "outputs": [
    {
     "name": "stdout",
     "output_type": "stream",
     "text": [
      "KSTestSummary::PushKSTest - Warning - received pValue = 0. Reset to an arbitary small non-zero value (e^(-15))\n",
      "KSTestSummary::PushKSTest - Warning - received pValue = 0. Reset to an arbitary small non-zero value (e^(-15))\n",
      "KSTestSummary::PushKSTest - Warning - received pValue = 0. Reset to an arbitary small non-zero value (e^(-15))\n",
      "KSTestSummary::PushKSTest - Warning - received pValue = 0. Reset to an arbitary small non-zero value (e^(-15))\n",
      "KSTestSummary::PushKSTest - Warning - received pValue = 0. Reset to an arbitary small non-zero value (e^(-15))\n",
      "KSTestSummary::PushKSTest - Warning - received pValue = 0. Reset to an arbitary small non-zero value (e^(-15))\n",
      "KSTestSummary::PushKSTest - Warning - received pValue = 0. Reset to an arbitary small non-zero value (e^(-15))\n"
     ]
    },
    {
     "data": {
      "image/png": "[encoded data removed]",
      "text/plain": [
       "<IPython.core.display.Image object>"
      ]
     },
     "metadata": {},
     "output_type": "display_data"
    }
   ],
   "source": [
    "%%cpp\n",
    "\n",
    "QA_Draw_Jet_Spectrum(\"h_QAG4SimJet_AntiKt_Tower_r07\");\n"
   ]
  },
  {
   "cell_type": "markdown",
   "metadata": {},
   "source": [
    "# Jet-Truth matching\n",
    "\n",
    "Bunch of plots matching reco jet to truth jet"
   ]
  },
  {
   "cell_type": "code",
   "execution_count": 14,
   "metadata": {
    "execution": {
     "iopub.execute_input": "2021-10-19T04:32:22.432332Z",
     "iopub.status.busy": "2021-10-19T04:32:22.431794Z",
     "iopub.status.idle": "2021-10-19T04:32:22.535143Z",
     "shell.execute_reply": "2021-10-19T04:32:22.534668Z"
    }
   },
   "outputs": [],
   "source": [
    "%%cpp\n",
    "\n",
    "//! jet family, tower, cluster or track jets \n",
    "const char *jet_family = \"AntiKt_Tower\";\n",
    "\n",
    "//! drawing energy range\n",
    "const double min_Et = 10;\n",
    "const double max_Et = 80;\n"
   ]
  },
  {
   "cell_type": "code",
   "execution_count": 15,
   "metadata": {
    "execution": {
     "iopub.execute_input": "2021-10-19T04:32:22.723598Z",
     "iopub.status.busy": "2021-10-19T04:32:22.722184Z",
     "iopub.status.idle": "2021-10-19T04:32:22.826643Z",
     "shell.execute_reply": "2021-10-19T04:32:22.827710Z"
    }
   },
   "outputs": [],
   "source": [
    "%%cpp -d\n",
    "\n",
    "// utility of drawing a matching pair\n",
    "\n",
    "vector<TGraphErrors *>\n",
    "QA_Draw_Jet_TruthMatching(const char *jet =\n",
    "                              \"h_QAG4SimJet_AntiKt_Truth_r07_AntiKt_Tower_r07\")\n",
    "{\n",
    "\n",
    "  vector<TGraphErrors *> resolution_collections;\n",
    "\n",
    "  TCanvas *c1 = new TCanvas(\n",
    "      TString(\"QA_Draw_Jet_TruthMatching_\") + TString(jet),\n",
    "      TString(\"QA_Draw_Jet_TruthMatching_\") + TString(jet), 1800, 900);\n",
    "  c1->Divide(3, 2);\n",
    "  int idx = 1;\n",
    "  TPad *p;\n",
    "\n",
    "  p = (TPad *) c1->cd(idx++);\n",
    "  c1->Update();\n",
    "  //  p->SetLogz();\n",
    "\n",
    "  {\n",
    "    TH2F *proj_new = (TH2F *) qa_file_new->GetObjectChecked(\n",
    "        TString(jet) + \"_Matching_dPhi\", \"TH2F\");\n",
    "\n",
    "    assert(proj_new);\n",
    "\n",
    "    proj_new->Rebin2D(1, 5);\n",
    "\n",
    "    TGraphErrors *ge = FitProfile(proj_new);\n",
    "\n",
    "    proj_new->GetXaxis()->SetRangeUser(min_Et, max_Et);\n",
    "    proj_new->GetYaxis()->SetTitleOffset(1.5);\n",
    "    proj_new->Draw(\"COLZ\");\n",
    "\n",
    "    TGraphErrors *ge_ref = NULL;\n",
    "    if (qa_file_ref)\n",
    "    {\n",
    "      TH2F *proj_ref = (TH2F *) qa_file_ref->GetObjectChecked(\n",
    "          TString(jet) + \"_Matching_dPhi\", \"TH2F\");\n",
    "      assert(proj_ref);\n",
    "      proj_ref->Rebin2D(1, 5);\n",
    "      TGraphErrors *ge_ref = FitProfile(proj_ref);\n",
    "    }\n",
    "    DrawReference(ge, ge_ref);\n",
    "\n",
    "    resolution_collections.push_back(ge);\n",
    "  }\n",
    "  TLine *l = new TLine(min_Et, 0, max_Et, 00);\n",
    "  l->Draw();\n",
    "    \n",
    "  p = (TPad *) c1->cd(idx++);\n",
    "  c1->Update();\n",
    "  //  p->SetLogz();\n",
    "\n",
    "  {\n",
    "    TH2F *proj_new = (TH2F *) qa_file_new->GetObjectChecked(\n",
    "        TString(jet) + \"_Matching_dEta\", \"TH2F\");\n",
    "\n",
    "    assert(proj_new);\n",
    "\n",
    "    proj_new->Rebin2D(1, 5);\n",
    "    TGraphErrors *ge = FitProfile(proj_new);\n",
    "\n",
    "    proj_new->GetXaxis()->SetRangeUser(min_Et, max_Et);\n",
    "    proj_new->GetYaxis()->SetTitleOffset(1.5);\n",
    "    proj_new->Draw(\"COLZ\");\n",
    "    proj_new->SetTitle(jet);\n",
    "\n",
    "    TGraphErrors *ge_ref = NULL;\n",
    "    if (qa_file_ref)\n",
    "    {\n",
    "      TH2F *proj_ref = (TH2F *) qa_file_ref->GetObjectChecked(\n",
    "          TString(jet) + \"_Matching_dEta\", \"TH2F\");\n",
    "      assert(proj_ref);\n",
    "      proj_ref->Rebin2D(1, 5);\n",
    "      TGraphErrors *ge_ref = FitProfile(proj_ref);\n",
    "    }\n",
    "    DrawReference(ge, ge_ref);\n",
    "\n",
    "    resolution_collections.push_back(ge);\n",
    "  }\n",
    "  l = new TLine(min_Et, 0, max_Et, 00);\n",
    "  l->Draw();\n",
    "\n",
    "  p = (TPad *) c1->cd(idx++);\n",
    "  c1->Update();\n",
    "  //  p->SetLogz();\n",
    "\n",
    "  {\n",
    "    TH2F *proj_new = (TH2F *) qa_file_new->GetObjectChecked(\n",
    "        TString(jet) + \"_Matching_dE\", \"TH2F\");\n",
    "\n",
    "    assert(proj_new);\n",
    "\n",
    "    //    proj_new->Rebin2D(1,5);\n",
    "\n",
    "    TGraphErrors *ge = FitProfile(proj_new);\n",
    "\n",
    "    proj_new->GetXaxis()->SetRangeUser(min_Et, max_Et);\n",
    "    proj_new->GetYaxis()->SetTitleOffset(1.5);\n",
    "    proj_new->Draw(\"COLZ\");\n",
    "    proj_new->SetTitle(jet);\n",
    "\n",
    "    TGraphErrors *ge_ref = NULL;\n",
    "    if (qa_file_ref)\n",
    "    {\n",
    "      TH2F *proj_ref = (TH2F *) qa_file_ref->GetObjectChecked(\n",
    "          TString(jet) + \"_Matching_dE\", \"TH2F\");\n",
    "      assert(proj_ref);\n",
    "      proj_ref->Rebin2D(1, 5);\n",
    "      TGraphErrors *ge_ref = FitProfile(proj_ref);\n",
    "    }\n",
    "    DrawReference(ge, ge_ref);\n",
    "\n",
    "    resolution_collections.push_back(ge);\n",
    "  }\n",
    "  l = new TLine(min_Et, 1, max_Et, 1);\n",
    "  l->Draw();\n",
    "\n",
    "  p = (TPad *) c1->cd(idx++);\n",
    "  c1->Update();\n",
    "  //  p->SetLogz();\n",
    "\n",
    "  {\n",
    "    TH2F *proj_new = (TH2F *) qa_file_new->GetObjectChecked(\n",
    "        TString(jet) + \"_Matching_dEt\", \"TH2F\");\n",
    "\n",
    "    assert(proj_new);\n",
    "\n",
    "    //    proj_new->Rebin2D(1,5);\n",
    "    TGraphErrors *ge = FitProfile(proj_new);\n",
    "\n",
    "    proj_new->GetXaxis()->SetRangeUser(min_Et, max_Et);\n",
    "    proj_new->GetYaxis()->SetTitleOffset(1.5);\n",
    "    proj_new->Draw(\"COLZ\");\n",
    "    proj_new->SetTitle(jet);\n",
    "\n",
    "    TGraphErrors *ge_ref = NULL;\n",
    "    if (qa_file_ref)\n",
    "    {\n",
    "      TH2F *proj_ref = (TH2F *) qa_file_ref->GetObjectChecked(\n",
    "          TString(jet) + \"_Matching_dEt\", \"TH2F\");\n",
    "      assert(proj_ref);\n",
    "      proj_ref->Rebin2D(1, 5);\n",
    "      TGraphErrors *ge_ref = FitProfile(proj_ref);\n",
    "    }\n",
    "    DrawReference(ge, ge_ref);\n",
    "\n",
    "    resolution_collections.push_back(ge);\n",
    "  }\n",
    "  l = new TLine(min_Et, 1, max_Et, 1);\n",
    "  l->Draw();\n",
    "\n",
    "  p = (TPad *) c1->cd(idx++);\n",
    "  c1->Update();\n",
    "  //  p->SetLogz();\n",
    "\n",
    "  {\n",
    "    TH2F *h2 = (TH2F *) qa_file_new->GetObjectChecked(\n",
    "        TString(jet) + \"_Matching_Count_Truth_Et\", \"TH2F\");\n",
    "    assert(h2);\n",
    "\n",
    "    TH1 *h_norm = h2->ProjectionX(\n",
    "        TString(jet) + \"_Matching_Count_Truth_Et\" + \"_All\", 1, 1);\n",
    "    //          TH1 * h_pass = h2->ProjectionX(\n",
    "    //              TString(jet) + \"_Matching_Count_Truth_Et\" + \"_Matched\", 2, 2);// inclusive match\n",
    "    TH1 *h_pass = h2->ProjectionX(\n",
    "        TString(jet) + \"_Matching_Count_Truth_Et\" + \"_Matched\", 3, 3);  // unique match\n",
    "    assert(h_norm);\n",
    "    assert(h_pass);\n",
    "    TH1 *h_ratio = GetBinominalRatio(h_pass, h_norm);\n",
    "\n",
    "    h_ratio->GetXaxis()->SetRangeUser(min_Et, max_Et);\n",
    "    h_ratio->GetYaxis()->SetTitle(\"Reco efficiency\");\n",
    "    h_ratio->GetYaxis()->SetRangeUser(-0, 1.2);\n",
    "\n",
    "    TH1 *h_ratio_ref = NULL;\n",
    "    if (qa_file_ref)\n",
    "    {\n",
    "      TH2F *h2 = (TH2F *) qa_file_ref->GetObjectChecked(\n",
    "          TString(jet) + \"_Matching_Count_Truth_Et\", \"TH2F\");\n",
    "      assert(h2);\n",
    "      TH1 *h_norm = h2->ProjectionX(\n",
    "          TString(jet) + \"_Matching_Count_Truth_Et\" + \"_All\", 1, 1);\n",
    "      //          TH1 * h_pass = h2->ProjectionX(\n",
    "      //              TString(jet) + \"_Matching_Count_Truth_Et\" + \"_Matched\", 2, 2);// inclusive match\n",
    "      TH1 *h_pass = h2->ProjectionX(\n",
    "          TString(jet) + \"_Matching_Count_Truth_Et\" + \"_Matched\", 3, 3);  // unique match\n",
    "      assert(h_norm);\n",
    "      assert(h_pass);\n",
    "      h_ratio_ref = GetBinominalRatio(h_pass, h_norm);\n",
    "    }\n",
    "\n",
    "    DrawReference(h_ratio, h_ratio_ref, true);\n",
    "\n",
    "    resolution_collections.push_back(new TGraphErrors(h_ratio));\n",
    "  }\n",
    "\n",
    "  l = new TLine(min_Et, 1, max_Et, 1);\n",
    "  l->Draw();\n",
    "\n",
    "  p = (TPad *) c1->cd(idx++);\n",
    "  c1->Update();\n",
    "  //  p->SetLogz();\n",
    "\n",
    "  {\n",
    "    TH2F *h2 = (TH2F *) qa_file_new->GetObjectChecked(\n",
    "        TString(jet) + \"_Matching_Count_Reco_Et\", \"TH2F\");\n",
    "    assert(h2);\n",
    "\n",
    "    TH1 *h_norm = h2->ProjectionX(\n",
    "        TString(jet) + \"_Matching_Count_Reco_Et\" + \"_All\", 1, 1);\n",
    "    //      TH1 * h_pass = h2->ProjectionX(\n",
    "    //          TString(jet) + \"_Matching_Count_Reco_Et\" + \"_Matched\", 2, 2); // inclusive match\n",
    "    TH1 *h_pass = h2->ProjectionX(\n",
    "        TString(jet) + \"_Matching_Count_Reco_Et\" + \"_Matched\", 3, 3);  // unique match\n",
    "    assert(h_norm);\n",
    "    assert(h_pass);\n",
    "    TH1 *h_ratio = GetBinominalRatio(h_pass, h_norm);\n",
    "\n",
    "    h_ratio->GetXaxis()->SetRangeUser(min_Et, max_Et);\n",
    "    h_ratio->GetYaxis()->SetTitle(\"Reconstruction Purity\");\n",
    "    h_ratio->GetYaxis()->SetRangeUser(-0, 1.2);\n",
    "\n",
    "    TH1 *h_ratio_ref = NULL;\n",
    "    if (qa_file_ref)\n",
    "    {\n",
    "      TH2F *h2 = (TH2F *) qa_file_ref->GetObjectChecked(\n",
    "          TString(jet) + \"_Matching_Count_Reco_Et\", \"TH2F\");\n",
    "      assert(h2);\n",
    "\n",
    "      TH1 *h_norm = h2->ProjectionX(\n",
    "          TString(jet) + \"_Matching_Count_Reco_Et\" + \"_All\", 1, 1);\n",
    "      //      TH1 * h_pass = h2->ProjectionX(\n",
    "      //          TString(jet) + \"_Matching_Count_Reco_Et\" + \"_Matched\", 2, 2); // inclusive match\n",
    "      TH1 *h_pass = h2->ProjectionX(\n",
    "          TString(jet) + \"_Matching_Count_Reco_Et\" + \"_Matched\", 3, 3);  // unique match\n",
    "      assert(h_norm);\n",
    "      assert(h_pass);\n",
    "      h_ratio_ref = GetBinominalRatio(h_pass, h_norm);\n",
    "    }\n",
    "\n",
    "    DrawReference(h_ratio, h_ratio_ref, true);\n",
    "\n",
    "    resolution_collections.push_back(new TGraphErrors(h_ratio));\n",
    "  }\n",
    "\n",
    "  l = new TLine(min_Et, 1, max_Et, 1);\n",
    "  l->Draw();\n",
    "\n",
    "//  PutInputFileName(c1, .04, qa_file_name_new, qa_file_name_ref);\n",
    "    c1->Draw();\n",
    "  //SaveCanvas(c1, TString(qa_file_name_new) + TString(c1->GetName()), false);\n",
    "    \n",
    "  return resolution_collections;\n",
    "}"
   ]
  },
  {
   "cell_type": "code",
   "execution_count": 16,
   "metadata": {
    "execution": {
     "iopub.execute_input": "2021-10-19T04:32:22.836918Z",
     "iopub.status.busy": "2021-10-19T04:32:22.836064Z",
     "iopub.status.idle": "2021-10-19T04:32:22.938602Z",
     "shell.execute_reply": "2021-10-19T04:32:22.939311Z"
    }
   },
   "outputs": [],
   "source": [
    "%%cpp\n",
    "{\n",
    "//      qa_file_new->GetListOfKeys().Print()\n",
    "//     qa_file_new->ls();\n",
    "//    QA_Draw_Jet_TruthMatching(\"h_QAG4SimJet_AntiKt_Truth_r07_AntiKt_Tower_r07\");\n",
    "\n",
    "}"
   ]
  },
  {
   "cell_type": "markdown",
   "metadata": {},
   "source": [
    "## Kinematic dependent Jet matching plots for various radius"
   ]
  },
  {
   "cell_type": "code",
   "execution_count": 17,
   "metadata": {
    "execution": {
     "iopub.execute_input": "2021-10-19T04:32:23.325626Z",
     "iopub.status.busy": "2021-10-19T04:32:23.325069Z",
     "iopub.status.idle": "2021-10-19T04:32:23.741401Z",
     "shell.execute_reply": "2021-10-19T04:32:23.741835Z"
    }
   },
   "outputs": [
    {
     "name": "stdout",
     "output_type": "stream",
     "text": [
      "Seraching for jet pairs in 418 QA histograms with pattern h_QAG4SimJet_.*_r[0-9]*_AntiKt_Tower_r[0-9]*_Matching_Count_Truth_Et\n",
      "QA_Draw_Jet_Summary - process jet pair h_QAG4SimJet_AntiKt_Truth_r02_AntiKt_Tower_r02 with radius = 0.2\n",
      "KSTestSummary::PushKSTest - Warning - received pValue = 0. Reset to an arbitary small non-zero value (e^(-15))\n",
      "KSTestSummary::PushKSTest - Warning - received pValue = 0. Reset to an arbitary small non-zero value (e^(-15))\n",
      "QA_Draw_Jet_Summary - process jet pair h_QAG4SimJet_AntiKt_Truth_r04_AntiKt_Tower_r04 with radius = 0.4\n",
      "KSTestSummary::PushKSTest - Warning - received pValue = 0. Reset to an arbitary small non-zero value (e^(-15))\n",
      "KSTestSummary::PushKSTest - Warning - received pValue = 0. Reset to an arbitary small non-zero value (e^(-15))\n",
      "QA_Draw_Jet_Summary - process jet pair h_QAG4SimJet_AntiKt_Truth_r07_AntiKt_Tower_r07 with radius = 0.7\n",
      "KSTestSummary::PushKSTest - Warning - received pValue = 0. Reset to an arbitary small non-zero value (e^(-15))\n",
      "KSTestSummary::PushKSTest - Warning - received pValue = 0. Reset to an arbitary small non-zero value (e^(-15))\n"
     ]
    },
    {
     "name": "stderr",
     "output_type": "stream",
     "text": [
      "Error in <TH1D::KolmogorovTest>: Histogram1 h_QAG4SimJet_AntiKt_Truth_r02_AntiKt_Tower_r02_Matching_Count_Truth_Et_Matched_Ratio integral is zero\n",
      "\n",
      "Error in <TH1D::KolmogorovTest>: Histogram1 h_QAG4SimJet_AntiKt_Truth_r02_AntiKt_Tower_r02_Matching_Count_Reco_Et_Matched_Ratio integral is zero\n",
      "\n",
      "Error in <TH1D::KolmogorovTest>: Histogram1 h_QAG4SimJet_AntiKt_Truth_r04_AntiKt_Tower_r04_Matching_Count_Truth_Et_Matched_Ratio integral is zero\n",
      "\n",
      "Error in <TH1D::KolmogorovTest>: Histogram1 h_QAG4SimJet_AntiKt_Truth_r04_AntiKt_Tower_r04_Matching_Count_Reco_Et_Matched_Ratio integral is zero\n",
      "\n",
      "Error in <TH1D::KolmogorovTest>: Histogram1 h_QAG4SimJet_AntiKt_Truth_r07_AntiKt_Tower_r07_Matching_Count_Truth_Et_Matched_Ratio integral is zero\n",
      "\n",
      "Error in <TH1D::KolmogorovTest>: Histogram1 h_QAG4SimJet_AntiKt_Truth_r07_AntiKt_Tower_r07_Matching_Count_Reco_Et_Matched_Ratio integral is zero\n",
      "\n"
     ]
    },
    {
     "data": {
      "image/png": "[encoded data removed]",
      "text/plain": [
       "<IPython.core.display.Image object>"
      ]
     },
     "metadata": {},
     "output_type": "display_data"
    },
    {
     "data": {
      "image/png": "[encoded data removed]",
      "text/plain": [
       "<IPython.core.display.Image object>"
      ]
     },
     "metadata": {},
     "output_type": "display_data"
    },
    {
     "data": {
      "image/png": "[encoded data removed]",
      "text/plain": [
       "<IPython.core.display.Image object>"
      ]
     },
     "metadata": {},
     "output_type": "display_data"
    }
   ],
   "source": [
    "%%cpp\n",
    "\n",
    "// buffer for results\n",
    "vector<float> vec_radius;\n",
    "vector<TGraphErrors *> vec_phi_res;\n",
    "vector<TGraphErrors *> vec_eta_res;\n",
    "vector<TGraphErrors *> vec_e_res;\n",
    "vector<TGraphErrors *> vec_et_res;\n",
    "vector<TGraphErrors *> vec_reco_eff;\n",
    "vector<TGraphErrors *> vec_purity;\n",
    "\n",
    "{\n",
    "    \n",
    "  // list and process all jets\n",
    "  TList *hist_key_list = qa_file_new->GetListOfKeys();\n",
    "    TString s_re_fullname = Form(\n",
    "        \"h_QAG4SimJet_.*_r[0-9]*_%s_r[0-9]*_Matching_Count_Truth_Et\",\n",
    "        jet_family);  // regular expression for search\n",
    "    TRegexp re_fullname(s_re_fullname, false);\n",
    "    \n",
    "  cout <<\"Seraching for jet pairs in \"<<hist_key_list->GetSize()<<\" QA histograms with pattern \"<<s_re_fullname<<endl;\n",
    "  for (int i = 0; i < hist_key_list->GetSize(); ++i)\n",
    "  {\n",
    "    TString key_name = hist_key_list->At(i)->GetName();\n",
    "\n",
    "    if (key_name.Index(re_fullname) == kNPOS)\n",
    "      continue;\n",
    "\n",
    "    //      cout << \" key_name = \" << key_name << endl;\n",
    "    TString jet_pair_name = key_name(0,\n",
    "                                     key_name.Length() - TString(\"_Matching_Count_Truth_Et\").Length());  // remove suffix\n",
    "\n",
    "    // cout << \"Processing jet_pair_name = \" << jet_pair_name << endl;\n",
    "\n",
    "    //get jet radius\n",
    "    TRegexp re_jetradius(\"_r[0-9]*\", false);\n",
    "    Ssiz_t index_radius = key_name.Index(re_jetradius);             // first radius\n",
    "    index_radius = key_name.Index(re_jetradius, index_radius + 1);  // second radius\n",
    "    assert(index_radius != kNPOS);\n",
    "    float radius = 0;\n",
    "    sscanf(key_name(index_radius, 100).Data(), \"_r%f\", &radius);\n",
    "    //      cout << \" index_radius = \" << index_radius << endl;\n",
    "    assert(radius != 0);\n",
    "    radius /= 10;  // jet radius convention in DST names\n",
    "\n",
    "    cout << \"QA_Draw_Jet_Summary - process jet pair \" << jet_pair_name\n",
    "         << \" with radius = \" << radius << endl;\n",
    "\n",
    "    vector<TGraphErrors *> resolution_efficiency_summary(\n",
    "        QA_Draw_Jet_TruthMatching(jet_pair_name));\n",
    "\n",
    "    //save results\n",
    "    vec_radius.push_back(radius);\n",
    "    vec_phi_res.push_back(resolution_efficiency_summary[0]);\n",
    "    vec_eta_res.push_back(resolution_efficiency_summary[1]);\n",
    "    vec_e_res.push_back(resolution_efficiency_summary[2]);\n",
    "    vec_et_res.push_back(resolution_efficiency_summary[3]);\n",
    "    vec_reco_eff.push_back(resolution_efficiency_summary[4]);\n",
    "    vec_purity.push_back(resolution_efficiency_summary[5]);\n",
    "\n",
    "  }\n",
    "    \n",
    "}"
   ]
  },
  {
   "cell_type": "markdown",
   "metadata": {},
   "source": [
    "## Summary plot as function of jet parameter"
   ]
  },
  {
   "cell_type": "code",
   "execution_count": 18,
   "metadata": {
    "execution": {
     "iopub.execute_input": "2021-10-19T04:32:23.750695Z",
     "iopub.status.busy": "2021-10-19T04:32:23.750050Z",
     "iopub.status.idle": "2021-10-19T04:32:24.170557Z",
     "shell.execute_reply": "2021-10-19T04:32:24.171066Z"
    }
   },
   "outputs": [
    {
     "data": {
      "image/png": "[encoded data removed]",
      "text/plain": [
       "<IPython.core.display.Image object>"
      ]
     },
     "metadata": {},
     "output_type": "display_data"
    }
   ],
   "source": [
    "%%cpp\n",
    "\n",
    "{\n",
    "    \n",
    "  // plot\n",
    "  TCanvas *c1 = new TCanvas(\n",
    "      TString(\"QA_Draw_Jet_Summary_\") + TString(jet_family),\n",
    "      TString(\"QA_Draw_Jet_Summary_\") + TString(jet_family), 1800, 900);\n",
    "  c1->Divide(3, 2);\n",
    "  int idx = 1;\n",
    "  TPad *p;\n",
    "\n",
    "  // ------------------------------------\n",
    "  p = (TPad *) c1->cd(idx++);\n",
    "  c1->Update();\n",
    "  //  p->SetLogz();\n",
    "\n",
    "  TH1 *h_frame =\n",
    "      p->DrawFrame(min_Et, -.1, max_Et, .1,\n",
    "                   TString(jet_family) + \" #phi Reconstruction;E_{T, Truth} (GeV);#phi_{Reco} - #phi_{Truth} (rad)\");\n",
    "  //  h_frame->GetYaxis()->SetTitleOffset(1.01);\n",
    "  TLine *l = new TLine(min_Et, 0, max_Et, 0);\n",
    "  l->Draw();\n",
    "  p->SetGridx(0);\n",
    "  p->SetGridy(0);\n",
    "  TLegend *legend = new TLegend(0.7, 0.2, .95, 0.5);\n",
    "  legend->SetFillColor(kWhite);\n",
    "  legend->SetFillStyle(1001);\n",
    "  legend->SetLineWidth(2);\n",
    "  legend->SetLineColor(kBlack);\n",
    "  legend->SetLineStyle(kSolid);\n",
    "  for (int i = 0; i < vec_radius.size(); ++i)\n",
    "  {\n",
    "    const float radius = vec_radius[i];\n",
    "\n",
    "    TGraphErrors *ge = vec_phi_res[i];\n",
    "    assert(ge);\n",
    "    ge = new TGraphErrors(*ge);  // make a copy\n",
    "\n",
    "    ge->SetLineColor(i + 2);    // automatic color scheme from ROOT\n",
    "    ge->SetMarkerColor(i + 2);  // automatic color scheme from ROOT\n",
    "    for (int idata = 0; idata < ge->GetN(); ++idata)\n",
    "    {\n",
    "      (ge->GetX())[idata] += i * 0.5;  // shift x a little bit\n",
    "      (ge->GetEX())[idata] = 0;        // no x error bar\n",
    "    }\n",
    "    ge->Draw(\"p E l\");\n",
    "    legend->AddEntry(ge, Form(\"r = %.1f\", radius), \"elp\");\n",
    "  }\n",
    "  legend->Draw();\n",
    "\n",
    "  // ------------------------------------\n",
    "  p = (TPad *) c1->cd(idx++);\n",
    "  c1->Update();\n",
    "  //  p->SetLogz();\n",
    "\n",
    "  h_frame =\n",
    "      p->DrawFrame(min_Et, -.1, max_Et, .1,\n",
    "                   TString(jet_family) + \" #eta Reconstruction;E_{T, Truth} (GeV);#eta_{Reco} - #eta_{Truth}\");\n",
    "  //  h_frame->GetYaxis()->SetTitleOffset(1.01);\n",
    "  l = new TLine(min_Et, 0, max_Et, 0);\n",
    "  l->Draw();\n",
    "  p->SetGridx(0);\n",
    "  p->SetGridy(0);\n",
    "  legend = new TLegend(0.7, 0.2, .95, 0.5);\n",
    "  legend->SetFillColor(kWhite);\n",
    "  legend->SetFillStyle(1001);\n",
    "  legend->SetLineWidth(2);\n",
    "  legend->SetLineColor(kBlack);\n",
    "  legend->SetLineStyle(kSolid);\n",
    "  for (int i = 0; i < vec_radius.size(); ++i)\n",
    "  {\n",
    "    const float radius = vec_radius[i];\n",
    "\n",
    "    TGraphErrors *ge = vec_eta_res[i];\n",
    "    assert(ge);\n",
    "    ge = new TGraphErrors(*ge);  // make a copy\n",
    "\n",
    "    ge->SetLineColor(i + 2);    // automatic color scheme from ROOT\n",
    "    ge->SetMarkerColor(i + 2);  // automatic color scheme from ROOT\n",
    "    for (int idata = 0; idata < ge->GetN(); ++idata)\n",
    "    {\n",
    "      (ge->GetX())[idata] += i * 0.5;  // shift x a little bit\n",
    "      (ge->GetEX())[idata] = 0;        // no x error bar\n",
    "    }\n",
    "    ge->Draw(\"p E l\");\n",
    "    legend->AddEntry(ge, Form(\"r = %.1f\", radius), \"elp\");\n",
    "  }\n",
    "  legend->Draw();\n",
    "\n",
    "  // ------------------------------------\n",
    "  p = (TPad *) c1->cd(idx++);\n",
    "  c1->Update();\n",
    "  //  p->SetLogz();\n",
    "\n",
    "  h_frame = p->DrawFrame(min_Et, 0, max_Et, 2,\n",
    "                         TString(jet_family) + \" Jet Energy Reconstruction;E_{Truth} (GeV);E_{Reco} / E_{Truth}\");\n",
    "  //  h_frame->GetYaxis()->SetTitleOffset(1.01);\n",
    "  l = new TLine(min_Et, 1, max_Et, 1);\n",
    "  l->Draw();\n",
    "  p->SetGridx(0);\n",
    "  p->SetGridy(0);\n",
    "  legend = new TLegend(0.7, 0.2, .95, 0.5);\n",
    "  legend->SetFillColor(kWhite);\n",
    "  legend->SetFillStyle(1001);\n",
    "  legend->SetLineWidth(2);\n",
    "  legend->SetLineColor(kBlack);\n",
    "  legend->SetLineStyle(kSolid);\n",
    "  for (int i = 0; i < vec_radius.size(); ++i)\n",
    "  {\n",
    "    const float radius = vec_radius[i];\n",
    "\n",
    "    TGraphErrors *ge = vec_e_res[i];\n",
    "    assert(ge);\n",
    "    ge = new TGraphErrors(*ge);  // make a copy\n",
    "\n",
    "    ge->SetLineColor(i + 2);    // automatic color scheme from ROOT\n",
    "    ge->SetMarkerColor(i + 2);  // automatic color scheme from ROOT\n",
    "    for (int idata = 0; idata < ge->GetN(); ++idata)\n",
    "    {\n",
    "      (ge->GetX())[idata] += i * 0.5;  // shift x a little bit\n",
    "      (ge->GetEX())[idata] = 0;        // no x error bar\n",
    "    }\n",
    "    ge->Draw(\"p E l\");\n",
    "    legend->AddEntry(ge, Form(\"r = %.1f\", radius), \"elp\");\n",
    "  }\n",
    "  legend->Draw();\n",
    "\n",
    "  // ------------------------------------\n",
    "  p = (TPad *) c1->cd(idx++);\n",
    "  c1->Update();\n",
    "  //  p->SetLogz();\n",
    "\n",
    "  h_frame =\n",
    "      p->DrawFrame(min_Et, 0, max_Et, 2,\n",
    "                   TString(jet_family) + \" Jet E_{T} Reconstruction;E_{T, Truth} (GeV);E_{T, Reco} / E_{T, Truth}\");\n",
    "  //  h_frame->GetYaxis()->SetTitleOffset(1.01);\n",
    "  l = new TLine(min_Et, 1, max_Et, 1);\n",
    "  l->Draw();\n",
    "  p->SetGridx(0);\n",
    "  p->SetGridy(0);\n",
    "  legend = new TLegend(0.7, 0.2, .95, 0.5);\n",
    "  legend->SetFillColor(kWhite);\n",
    "  legend->SetFillStyle(1001);\n",
    "  legend->SetLineWidth(2);\n",
    "  legend->SetLineColor(kBlack);\n",
    "  legend->SetLineStyle(kSolid);\n",
    "  for (int i = 0; i < vec_radius.size(); ++i)\n",
    "  {\n",
    "    const float radius = vec_radius[i];\n",
    "\n",
    "    TGraphErrors *ge = vec_et_res[i];\n",
    "    assert(ge);\n",
    "    ge = new TGraphErrors(*ge);  // make a copy\n",
    "\n",
    "    ge->SetLineColor(i + 2);    // automatic color scheme from ROOT\n",
    "    ge->SetMarkerColor(i + 2);  // automatic color scheme from ROOT\n",
    "    for (int idata = 0; idata < ge->GetN(); ++idata)\n",
    "    {\n",
    "      (ge->GetX())[idata] += i * 0.5;  // shift x a little bit\n",
    "      (ge->GetEX())[idata] = 0;        // no x error bar\n",
    "    }\n",
    "    ge->Draw(\"p E l\");\n",
    "    legend->AddEntry(ge, Form(\"r = %.1f\", radius), \"elp\");\n",
    "  }\n",
    "  legend->Draw();\n",
    "\n",
    "  // ------------------------------------\n",
    "  p = (TPad *) c1->cd(idx++);\n",
    "  c1->Update();\n",
    "  //  p->SetLogz();\n",
    "\n",
    "  h_frame = p->DrawFrame(min_Et, 0, max_Et, 1.2,\n",
    "                         TString(jet_family) + \" Reco Efficiency;E_{T, Truth} (GeV);Reco efficiency\");\n",
    "  //  h_frame->GetYaxis()->SetTitleOffset(1.01);\n",
    "  l = new TLine(min_Et, 1, max_Et, 1);\n",
    "  l->Draw();\n",
    "  p->SetGridx(0);\n",
    "  p->SetGridy(0);\n",
    "  legend = new TLegend(0.7, 0.2, .95, 0.5);\n",
    "  legend->SetFillColor(kWhite);\n",
    "  legend->SetFillStyle(1001);\n",
    "  legend->SetLineWidth(2);\n",
    "  legend->SetLineColor(kBlack);\n",
    "  legend->SetLineStyle(kSolid);\n",
    "  for (int i = 0; i < vec_radius.size(); ++i)\n",
    "  {\n",
    "    const float radius = vec_radius[i];\n",
    "\n",
    "    TGraphErrors *ge = vec_reco_eff[i];\n",
    "    assert(ge);\n",
    "    ge = new TGraphErrors(*ge);  // make a copy\n",
    "\n",
    "    ge->SetLineColor(i + 2);    // automatic color scheme from ROOT\n",
    "    ge->SetMarkerColor(i + 2);  // automatic color scheme from ROOT\n",
    "    for (int idata = 0; idata < ge->GetN(); ++idata)\n",
    "    {\n",
    "      (ge->GetX())[idata] += i * 0.5;  // shift x a little bit\n",
    "      (ge->GetEX())[idata] = 0;        // no x error bar\n",
    "    }\n",
    "    ge->Draw(\"p E l\");\n",
    "    legend->AddEntry(ge, Form(\"r = %.1f\", radius), \"elp\");\n",
    "  }\n",
    "  legend->Draw();\n",
    "\n",
    "  // ------------------------------------\n",
    "  p = (TPad *) c1->cd(idx++);\n",
    "  c1->Update();\n",
    "  //  p->SetLogz();\n",
    "\n",
    "  h_frame = p->DrawFrame(min_Et, 0, max_Et, 1.2,\n",
    "                         TString(jet_family) + \" Reconstruction Purity;E_{T, Reco} (GeV);Reconstruction Purity\");\n",
    "  //  h_frame->GetYaxis()->SetTitleOffset(1.01);\n",
    "  l = new TLine(min_Et, 1, max_Et, 1);\n",
    "  l->Draw();\n",
    "  p->SetGridx(0);\n",
    "  p->SetGridy(0);\n",
    "  legend = new TLegend(0.7, 0.2, .95, 0.5);\n",
    "  legend->SetFillColor(kWhite);\n",
    "  legend->SetFillStyle(1001);\n",
    "  legend->SetLineWidth(2);\n",
    "  legend->SetLineColor(kBlack);\n",
    "  legend->SetLineStyle(kSolid);\n",
    "  for (int i = 0; i < vec_radius.size(); ++i)\n",
    "  {\n",
    "    const float radius = vec_radius[i];\n",
    "\n",
    "    TGraphErrors *ge = vec_purity[i];\n",
    "    assert(ge);\n",
    "    ge = new TGraphErrors(*ge);  // make a copy\n",
    "\n",
    "    ge->SetLineColor(i + 2);    // automatic color scheme from ROOT\n",
    "    ge->SetMarkerColor(i + 2);  // automatic color scheme from ROOT\n",
    "    for (int idata = 0; idata < ge->GetN(); ++idata)\n",
    "    {\n",
    "      (ge->GetX())[idata] += i * 0.5;  // shift x a little bit\n",
    "      (ge->GetEX())[idata] = 0;        // no x error bar\n",
    "    }\n",
    "    ge->Draw(\"p E l\");\n",
    "    legend->AddEntry(ge, Form(\"r = %.1f\", radius), \"elp\");\n",
    "  }\n",
    "  legend->Draw();\n",
    "\n",
    "  //  PutInputFileName(c1, .03, qa_file_name_new, qa_file_name_ref);\n",
    "    c1->Draw();\n",
    "  //SaveCanvas(c1, TString(qa_file_name_new) + TString(c1->GetName()), true);\n",
    "\n",
    "}"
   ]
  },
  {
   "cell_type": "code",
   "execution_count": null,
   "metadata": {},
   "outputs": [],
   "source": []
  },
  {
   "cell_type": "markdown",
   "metadata": {},
   "source": [
    "# Summary statistics"
   ]
  },
  {
   "cell_type": "code",
   "execution_count": 19,
   "metadata": {
    "execution": {
     "iopub.execute_input": "2021-10-19T04:32:24.226930Z",
     "iopub.status.busy": "2021-10-19T04:32:24.226394Z",
     "iopub.status.idle": "2021-10-19T04:32:24.333131Z",
     "shell.execute_reply": "2021-10-19T04:32:24.332033Z"
    }
   },
   "outputs": [
    {
     "name": "stdout",
     "output_type": "stream",
     "text": [
      "This notebook contains 21 KSTets: combined Chi2/nDoF = 630 / 42, and combined __p-Value = 6.39314e-106__\n"
     ]
    }
   ],
   "source": [
    "%%cpp\n",
    "\n",
    "KSTestSummary::getInstance()->make_summary_txt(\"QA-calorimetric-jet.txt\");"
   ]
  },
  {
   "cell_type": "code",
   "execution_count": 20,
   "metadata": {
    "execution": {
     "iopub.execute_input": "2021-10-19T04:32:24.362097Z",
     "iopub.status.busy": "2021-10-19T04:32:24.360817Z",
     "iopub.status.idle": "2021-10-19T04:32:24.588962Z",
     "shell.execute_reply": "2021-10-19T04:32:24.590159Z"
    }
   },
   "outputs": [
    {
     "data": {
      "image/png": "[encoded data removed]",
      "text/plain": [
       "<IPython.core.display.Image object>"
      ]
     },
     "metadata": {},
     "output_type": "display_data"
    }
   ],
   "source": [
    "%%cpp\n",
    "\n",
    "KSTestSummary::getInstance()->make_summary_TCanvas() -> Draw();"
   ]
  }
 ],
 "metadata": {
  "kernelspec": {
   "display_name": "Python (sPHENIX)",
   "language": "python",
   "name": "sphenix-env"
  },
  "language_info": {
   "codemirror_mode": {
    "name": "ipython",
    "version": 3
   },
   "file_extension": ".py",
   "mimetype": "text/x-python",
   "name": "python",
   "nbconvert_exporter": "python",
   "pygments_lexer": "ipython3",
   "version": "3.8.0"
  }
 },
 "nbformat": 4,
 "nbformat_minor": 4
}
